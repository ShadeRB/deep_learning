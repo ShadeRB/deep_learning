{
 "cells": [
  {
   "cell_type": "markdown",
   "metadata": {},
   "source": [
    "# Backpropagation in Multilayer Neural Networks\n",
    "\n",
    "While we will primarily be working with high-level, abstract toolkits like Keras in this course, understanding how backpropagation works is absolutely essential to using neural networks. \n",
    "\n",
    "In this exercise, we will build our own backpropagation algorithm - working through each step, to ensure that we can follow it."
   ]
  },
  {
   "cell_type": "markdown",
   "metadata": {
    "collapsed": false
   },
   "source": [
    "Just like in Lab 1, we'll be working with the MNIST dataset. We will load it and plot an example:"
   ]
  },
  {
   "cell_type": "code",
   "execution_count": 258,
   "metadata": {},
   "outputs": [],
   "source": [
    "%matplotlib inline\n",
    "import matplotlib.pyplot as plt\n",
    "import numpy as np\n",
    "from sklearn.datasets import load_digits\n",
    "\n",
    "digits = load_digits()"
   ]
  },
  {
   "cell_type": "code",
   "execution_count": 259,
   "metadata": {},
   "outputs": [
    {
     "data": {
      "image/png": "[encoded data removed]",
      "text/plain": [
       "<Figure size 300x300 with 1 Axes>"
      ]
     },
     "metadata": {},
     "output_type": "display_data"
    }
   ],
   "source": [
    "sample_index = 45\n",
    "plt.figure(figsize=(3, 3))\n",
    "plt.imshow(digits.images[sample_index], cmap=plt.cm.gray_r,\n",
    "           interpolation='nearest')\n",
    "plt.title(\"image label: %d\" % digits.target[sample_index]);"
   ]
  },
  {
   "cell_type": "markdown",
   "metadata": {},
   "source": [
    "### Preprocessing\n",
    "\n",
    "Of course, we need to split our data into training and testing sets before we use it, just the same as in Lab 1:"
   ]
  },
  {
   "cell_type": "code",
   "execution_count": 260,
   "metadata": {},
   "outputs": [],
   "source": [
    "from sklearn.model_selection import train_test_split\n",
    "\n",
    "data = np.asarray(digits.data, dtype='float32')\n",
    "target = np.asarray(digits.target, dtype='int32')\n",
    "\n",
    "X_train, X_test, y_train, y_test = train_test_split(\n",
    "    data, target, test_size=0.15, random_state=37)"
   ]
  },
  {
   "cell_type": "markdown",
   "metadata": {},
   "source": [
    "# Numpy Implementation\n",
    "\n",
    "## a) Logistic Regression\n",
    "\n",
    "In this section we will implement a logistic regression model trainable with SGD using numpy. Here are the objectives:\n",
    "\n",
    "- Implement the softmax function $\\sigma(\\mathbf{x})_i = \\frac{e^{x_i}}{\\sum_{j=1}^n e^{x_j}}$;\n",
    "- Implement the negative log likelihood function $NLL(Y_{true}, Y_{pred}) = - \\sum_{i=1}^{n}{y_{true, i} \\cdot \\log(y_{pred, i})}$;\n",
    "- Train a logistic regression model on the MNIST dataset;\n",
    "- Evaluate the model on the training and testing sets.\n",
    "\n",
    "Before we get there, let's write a function that one-hot encodes the class labels:"
   ]
  },
  {
   "cell_type": "code",
   "execution_count": 261,
   "metadata": {},
   "outputs": [],
   "source": [
    "def one_hot(n_classes, y):\n",
    "    return np.eye(n_classes)[y]"
   ]
  },
  {
   "cell_type": "code",
   "execution_count": 262,
   "metadata": {},
   "outputs": [
    {
     "data": {
      "text/plain": [
       "array([0., 0., 0., 1., 0., 0., 0., 0., 0., 0.])"
      ]
     },
     "execution_count": 262,
     "metadata": {},
     "output_type": "execute_result"
    }
   ],
   "source": [
    "one_hot(n_classes=10, y=3)"
   ]
  },
  {
   "cell_type": "code",
   "execution_count": 263,
   "metadata": {},
   "outputs": [
    {
     "data": {
      "text/plain": [
       "array([[1., 0., 0., 0., 0., 0., 0., 0., 0., 0.],\n",
       "       [0., 0., 0., 0., 1., 0., 0., 0., 0., 0.],\n",
       "       [0., 0., 0., 0., 0., 0., 0., 0., 0., 1.],\n",
       "       [0., 1., 0., 0., 0., 0., 0., 0., 0., 0.]])"
      ]
     },
     "execution_count": 263,
     "metadata": {},
     "output_type": "execute_result"
    }
   ],
   "source": [
    "one_hot(n_classes=10, y=[0, 4, 9, 1])"
   ]
  },
  {
   "cell_type": "markdown",
   "metadata": {},
   "source": [
    "### The softmax function\n",
    "\n",
    "Now we will implement the softmax function. Recall that the softmax function is defined as follows:\n",
    "\n",
    "$$\n",
    "softmax(\\mathbf{x}) = \\frac{1}{\\sum_{i=1}^{n}{e^{x_i}}}\n",
    "\\cdot\n",
    "\\begin{bmatrix}\n",
    "  e^{x_1}\\\\\\\\\n",
    "  e^{x_2}\\\\\\\\\n",
    "  \\vdots\\\\\\\\\n",
    "  e^{x_n}\n",
    "\\end{bmatrix}\n",
    "$$\n",
    "\n",
    "This is implemented for you using numpy - we want to be able to apply the softmax function to a batch of samples at once, so we will use numpy's vectorized operations to do so.\n",
    "\n",
    "Our method also handles _stability issues_ that can occur when the values in `X` are very large. We will subtract the maximum value from each row of `X` to avoid overflow in the exponentiation. This isn't part of the softmax function itself, but it's a useful trick to know about."
   ]
  },
  {
   "cell_type": "code",
   "execution_count": 264,
   "metadata": {
    "collapsed": false
   },
   "outputs": [],
   "source": [
    "def softmax(X):\n",
    "    X_max = np.max(X, axis=-1, keepdims=True)\n",
    "    exp = np.exp(X - X_max) # Subtract the max to avoid overflow in the exponentiation\n",
    "    return exp / np.sum(exp, axis=-1, keepdims=True)\n"
   ]
  },
  {
   "cell_type": "markdown",
   "metadata": {},
   "source": [
    "Let's make sure that this works one vector at a time (and check that the components sum to one):"
   ]
  },
  {
   "cell_type": "code",
   "execution_count": 265,
   "metadata": {},
   "outputs": [
    {
     "name": "stdout",
     "output_type": "stream",
     "text": [
      "[9.99662391e-01 3.35349373e-04 2.25956630e-06]\n"
     ]
    }
   ],
   "source": [
    "print(softmax([10, 2, -3]))"
   ]
  },
  {
   "cell_type": "markdown",
   "metadata": {},
   "source": [
    "When we are using our model to make predictions, we will want to be able to make predictions for multiple samples at once.\n",
    "Let's make sure that our implementation of softmax works for a batch of samples:"
   ]
  },
  {
   "cell_type": "code",
   "execution_count": 266,
   "metadata": {},
   "outputs": [
    {
     "name": "stdout",
     "output_type": "stream",
     "text": [
      "[[9.99662391e-01 3.35349373e-04 2.25956630e-06]\n",
      " [2.47262316e-03 9.97527377e-01 1.38536042e-11]]\n"
     ]
    }
   ],
   "source": [
    "X = np.array([[10, 2, -3],\n",
    "              [-1, 5, -20]])\n",
    "print(softmax(X))"
   ]
  },
  {
   "cell_type": "markdown",
   "metadata": {},
   "source": [
    "Probabilities should sum to 1:"
   ]
  },
  {
   "cell_type": "code",
   "execution_count": 267,
   "metadata": {},
   "outputs": [
    {
     "name": "stdout",
     "output_type": "stream",
     "text": [
      "1.0\n"
     ]
    }
   ],
   "source": [
    "print(np.sum(softmax([10, 2, -3])))"
   ]
  },
  {
   "cell_type": "code",
   "execution_count": 268,
   "metadata": {},
   "outputs": [
    {
     "name": "stdout",
     "output_type": "stream",
     "text": [
      "softmax of 2 vectors:\n",
      "[[9.99662391e-01 3.35349373e-04 2.25956630e-06]\n",
      " [2.47262316e-03 9.97527377e-01 1.38536042e-11]]\n"
     ]
    }
   ],
   "source": [
    "print(\"softmax of 2 vectors:\")\n",
    "X = np.array([[10, 2, -3],\n",
    "              [-1, 5, -20]])\n",
    "print(softmax(X))"
   ]
  },
  {
   "cell_type": "markdown",
   "metadata": {},
   "source": [
    "The sum of probabilities for each input vector of logits should some to 1:"
   ]
  },
  {
   "cell_type": "code",
   "execution_count": 269,
   "metadata": {},
   "outputs": [
    {
     "name": "stdout",
     "output_type": "stream",
     "text": [
      "[1. 1.]\n"
     ]
    }
   ],
   "source": [
    "print(np.sum(softmax(X), axis=1))"
   ]
  },
  {
   "cell_type": "markdown",
   "metadata": {},
   "source": [
    "Now we will implement a function that, given the true one-hot encoded class `Y_true` and some predicted probabilities `Y_pred`, returns the negative log likelihood.\n",
    "\n",
    "Recall that the negative log likelihood is defined as follows:\n",
    "\n",
    "$$\n",
    "NLL(Y_{true}, Y_{pred}) = - \\sum_{i=1}^{n}{y_{true, i} \\cdot \\log(y_{pred, i})}\n",
    "$$\n",
    "\n",
    "For example, if we have $y_{true} = [1, 0, 0]$ and $y_{pred} = [0.99, 0.01, 0]$, then the negative log likelihood is $- \\log(0.99) \\approx 0.01$."
   ]
  },
  {
   "cell_type": "code",
   "execution_count": 270,
   "metadata": {},
   "outputs": [
    {
     "name": "stdout",
     "output_type": "stream",
     "text": [
      "0.01005033585350145\n"
     ]
    }
   ],
   "source": [
    "def nll(Y_true, Y_pred):\n",
    "    Y_true = np.asarray(Y_true)\n",
    "    Y_pred = np.asarray(Y_pred)\n",
    "\n",
    "    # Ensure Y_pred doesn't have zero probabilities to avoid log(0)\n",
    "    Y_pred = np.clip(Y_pred, 1e-15, 1 - 1e-15)\n",
    "\n",
    "    # Calculate negative log likelihood\n",
    "    loss = -np.sum(Y_true * np.log(Y_pred))\n",
    "    return loss\n",
    "\n",
    "# Make sure that it works for a simple sample at a time\n",
    "print(nll([1, 0, 0], [.99, 0.01, 0]))"
   ]
  },
  {
   "cell_type": "markdown",
   "metadata": {},
   "source": [
    "We should see a very high value for this negative log likelihood, since the model is very confident that the third class is the correct one, but the true class is the first one:"
   ]
  },
  {
   "cell_type": "code",
   "execution_count": 271,
   "metadata": {},
   "outputs": [
    {
     "name": "stdout",
     "output_type": "stream",
     "text": [
      "4.605170185988091\n"
     ]
    }
   ],
   "source": [
    "print(nll([1, 0, 0], [0.01, 0.01, .98]))"
   ]
  },
  {
   "cell_type": "markdown",
   "metadata": {},
   "source": [
    "Make sure that your implementation can compute the average negative log likelihood of a group of predictions: `Y_pred` and `Y_true` can therefore be past as 2D arrays:"
   ]
  },
  {
   "cell_type": "code",
   "execution_count": 272,
   "metadata": {},
   "outputs": [
    {
     "name": "stdout",
     "output_type": "stream",
     "text": [
      "0.010050335853503449\n"
     ]
    }
   ],
   "source": [
    "# Check that the average NLL of the following 3 almost perfect\n",
    "# predictions is close to 0\n",
    "Y_true = np.array([[0, 1, 0],\n",
    "                   [1, 0, 0],\n",
    "                   [0, 0, 1]])\n",
    "\n",
    "Y_pred = np.array([[0,   1,    0],\n",
    "                   [.99, 0.01, 0],\n",
    "                   [0,   0,    1]])\n",
    "\n",
    "print(nll(Y_true, Y_pred))"
   ]
  },
  {
   "cell_type": "markdown",
   "metadata": {
    "collapsed": false
   },
   "source": [
    "Now that we have our softmax and negative log likelihood functions, we can implement a logistic regression model. \n",
    "In this section, we have built the model for you, but you will need to complete a few key parts.\n",
    "\n",
    "**YOUR TURN:**\n",
    "\n",
    "1. Implement the `forward` method of the `LogisticRegression` class. This method should take in a batch of samples `X` and return the predicted probabilities for each class. You should use the softmax function that we implemented earlier.\n",
    "2. Implement the `loss` method of the `LogisticRegression` class. This method take in the samples `X` and the true values `y` and return the average negative log likelihood of the predictions."
   ]
  },
  {
   "cell_type": "code",
   "execution_count": 273,
   "metadata": {
    "collapsed": false
   },
   "outputs": [],
   "source": [
    "import numpy as np\n",
    "\n",
    "def one_hot(num_classes, labels):\n",
    "    \"\"\"\n",
    "    Convert class labels (integers) to one-hot encoded format.\n",
    "    \"\"\"\n",
    "    one_hot_matrix = np.zeros((len(labels), num_classes))\n",
    "    one_hot_matrix[np.arange(len(labels)), labels] = 1\n",
    "    return one_hot_matrix\n",
    "\n",
    "class LogisticRegression:\n",
    "\n",
    "    def __init__(self, input_size, output_size):\n",
    "        # Initialize weights and biases\n",
    "        self.W = np.random.uniform(low=-0.1, high=0.1, size=(input_size, output_size))\n",
    "        self.b = np.random.uniform(low=-0.1, high=0.1, size=output_size)\n",
    "\n",
    "        # Store dimensions\n",
    "        self.input_size = input_size\n",
    "        self.output_size = output_size\n",
    "\n",
    "    def forward(self, X):\n",
    "        # Linear transformation + softmax\n",
    "        Z = np.dot(X, self.W) + self.b\n",
    "        exp_Z = np.exp(Z - np.max(Z, axis=1, keepdims=True))  # stability trick\n",
    "        softmax_output = exp_Z / np.sum(exp_Z, axis=1, keepdims=True)\n",
    "        return softmax_output\n",
    "\n",
    "    def predict(self, X):\n",
    "        # Predict class with highest probability\n",
    "        if len(X.shape) == 1:\n",
    "            X = X.reshape(1, -1)\n",
    "        return np.argmax(self.forward(X), axis=1)\n",
    "\n",
    "    def loss(self, X, y):\n",
    "        # Negative log-likelihood loss\n",
    "        y_pred = self.forward(X)\n",
    "        log_likelihood = -np.log(y_pred[range(len(y)), y.astype(int)])\n",
    "        return np.mean(log_likelihood)\n",
    "\n",
    "    def grad_loss(self, X, y_true, y_pred):\n",
    "        # Gradient of the loss wrt weights and biases\n",
    "        y_true_onehot = one_hot(self.output_size, y_true.astype(int))\n",
    "        grad_W = np.dot(X.T, (y_pred - y_true_onehot)) / len(X)\n",
    "        grad_b = np.sum(y_pred - y_true_onehot, axis=0) / len(X)\n",
    "        return grad_W, grad_b\n",
    "\n",
    "# Test the implementation\n",
    "model = LogisticRegression(input_size=64, output_size=10)\n",
    "try:\n",
    "    assert(model.forward(np.zeros((1, 64))).shape == (1, 10))\n",
    "    assert(model.loss(np.zeros((1, 64)), np.zeros(1)) > 0)\n",
    "except:\n",
    "    raise NotImplementedError(\"You need to correctly implement the LogisticRegression class.\")\n"
   ]
  },
  {
   "cell_type": "code",
   "execution_count": 274,
   "metadata": {
    "collapsed": false
   },
   "outputs": [],
   "source": [
    "# Build a model and test its forward inference\n",
    "n_features = X_train.shape[1]\n",
    "n_classes = len(np.unique(y_train))\n",
    "lr = LogisticRegression(n_features, n_classes)"
   ]
  },
  {
   "cell_type": "markdown",
   "metadata": {
    "collapsed": false
   },
   "source": [
    "We can evaluate the model on an example, visualizing the prediction probabilities:"
   ]
  },
  {
   "cell_type": "code",
   "execution_count": 275,
   "metadata": {
    "collapsed": false
   },
   "outputs": [],
   "source": [
    "import matplotlib.pyplot as plt\n",
    "\n",
    "def plot_prediction(model, sample_idx=0, classes=range(10)):\n",
    "    fig, (ax0, ax1) = plt.subplots(nrows=1, ncols=2, figsize=(10, 4))\n",
    "\n",
    "    # Show the image\n",
    "    ax0.imshow(X_test[sample_idx].reshape(8, 8), cmap=plt.cm.gray_r, interpolation='nearest')\n",
    "    ax0.set_title(f\"True image label: {y_test[sample_idx]}\")\n",
    "\n",
    "    # One-hot true label and predicted probabilities\n",
    "    true_onehot = one_hot(len(classes), np.array([y_test[sample_idx]]))[0]\n",
    "    pred_probs = model.forward(X_test[sample_idx:sample_idx+1])[0]\n",
    "\n",
    "    ax1.bar(classes, true_onehot, label='True', alpha=0.6)\n",
    "    ax1.bar(classes, pred_probs, label='Prediction', alpha=0.6, color=\"red\")\n",
    "    ax1.set_xticks(classes)\n",
    "    ax1.set_xlabel('Digit class')\n",
    "    ax1.set_ylabel('Probability')\n",
    "    ax1.set_title(f\"Predicted: {np.argmax(pred_probs)}\")\n",
    "    ax1.legend()\n",
    "\n",
    "    plt.tight_layout()\n",
    "    plt.show()\n",
    "\n",
    "    "
   ]
  },
  {
   "cell_type": "markdown",
   "metadata": {
    "collapsed": false
   },
   "source": [
    "Now it's time to start training! We will train for a single epoch, and then evaluate the model on the training and testing sets. Read through the following and make sure that you understand what we are doing here."
   ]
  },
  {
   "cell_type": "code",
   "execution_count": 276,
   "metadata": {
    "collapsed": false
   },
   "outputs": [
    {
     "ename": "TypeError",
     "evalue": "__init__() got an unexpected keyword argument 'sparse'",
     "output_type": "error",
     "traceback": [
      "\u001b[1;31m---------------------------------------------------------------------------\u001b[0m",
      "\u001b[1;31mTypeError\u001b[0m                                 Traceback (most recent call last)",
      "Cell \u001b[1;32mIn[276], line 52\u001b[0m\n\u001b[0;32m     50\u001b[0m x \u001b[38;5;241m=\u001b[39m X_train[i:i\u001b[38;5;241m+\u001b[39m\u001b[38;5;241m1\u001b[39m]\n\u001b[0;32m     51\u001b[0m y \u001b[38;5;241m=\u001b[39m y_train[i:i\u001b[38;5;241m+\u001b[39m\u001b[38;5;241m1\u001b[39m]\n\u001b[1;32m---> 52\u001b[0m y_true_oh \u001b[38;5;241m=\u001b[39m \u001b[43mone_hot\u001b[49m\u001b[43m(\u001b[49m\u001b[38;5;241;43m10\u001b[39;49m\u001b[43m,\u001b[49m\u001b[43m \u001b[49m\u001b[43my\u001b[49m\u001b[43m)\u001b[49m\n\u001b[0;32m     53\u001b[0m y_pred \u001b[38;5;241m=\u001b[39m lr\u001b[38;5;241m.\u001b[39mforward(x)\n\u001b[0;32m     54\u001b[0m grad_W, grad_b \u001b[38;5;241m=\u001b[39m lr\u001b[38;5;241m.\u001b[39mgrad_loss(x, y_true_oh, y_pred)\n",
      "Cell \u001b[1;32mIn[276], line 13\u001b[0m, in \u001b[0;36mone_hot\u001b[1;34m(num_classes, y)\u001b[0m\n\u001b[0;32m     11\u001b[0m \u001b[38;5;28;01mdef\u001b[39;00m\u001b[38;5;250m \u001b[39m\u001b[38;5;21mone_hot\u001b[39m(num_classes, y):\n\u001b[0;32m     12\u001b[0m     y \u001b[38;5;241m=\u001b[39m y\u001b[38;5;241m.\u001b[39mreshape(\u001b[38;5;241m-\u001b[39m\u001b[38;5;241m1\u001b[39m, \u001b[38;5;241m1\u001b[39m)\n\u001b[1;32m---> 13\u001b[0m     encoder \u001b[38;5;241m=\u001b[39m \u001b[43mOneHotEncoder\u001b[49m\u001b[43m(\u001b[49m\u001b[43mcategories\u001b[49m\u001b[38;5;241;43m=\u001b[39;49m\u001b[38;5;124;43m'\u001b[39;49m\u001b[38;5;124;43mauto\u001b[39;49m\u001b[38;5;124;43m'\u001b[39;49m\u001b[43m,\u001b[49m\u001b[43m \u001b[49m\u001b[43msparse\u001b[49m\u001b[38;5;241;43m=\u001b[39;49m\u001b[38;5;28;43;01mFalse\u001b[39;49;00m\u001b[43m)\u001b[49m\n\u001b[0;32m     14\u001b[0m     \u001b[38;5;28;01mreturn\u001b[39;00m encoder\u001b[38;5;241m.\u001b[39mfit_transform(np\u001b[38;5;241m.\u001b[39meye(num_classes)[y\u001b[38;5;241m.\u001b[39mastype(\u001b[38;5;28mint\u001b[39m)\u001b[38;5;241m.\u001b[39mravel()])\n",
      "\u001b[1;31mTypeError\u001b[0m: __init__() got an unexpected keyword argument 'sparse'"
     ]
    }
   ],
   "source": [
    "import numpy as np\n",
    "from tensorflow.keras.datasets import fashion_mnist\n",
    "from sklearn.preprocessing import OneHotEncoder\n",
    "\n",
    "# 1. Load and preprocess data\n",
    "(X_train, y_train), (X_test, y_test) = fashion_mnist.load_data()\n",
    "X_train = X_train.reshape(-1, 28 * 28).astype(np.float32) / 255.0\n",
    "X_test = X_test.reshape(-1, 28 * 28).astype(np.float32) / 255.0\n",
    "\n",
    "# 2. Helper: one-hot encoding\n",
    "def one_hot(num_classes, y):\n",
    "    y = y.reshape(-1, 1)\n",
    "    encoder = OneHotEncoder(categories='auto', sparse=False)\n",
    "    return encoder.fit_transform(np.eye(num_classes)[y.astype(int).ravel()])\n",
    "\n",
    "# 3. Define Logistic Regression class\n",
    "class LogisticRegression:\n",
    "    def __init__(self, input_size, output_size):\n",
    "        self.W = np.random.randn(input_size, output_size) * 0.01\n",
    "        self.b = np.zeros((1, output_size))\n",
    "        self.output_size = output_size\n",
    "\n",
    "    def softmax(self, z):\n",
    "        exp_z = np.exp(z - np.max(z, axis=1, keepdims=True))  # stability trick\n",
    "        return exp_z / np.sum(exp_z, axis=1, keepdims=True)\n",
    "\n",
    "    def forward(self, x):\n",
    "        return self.softmax(np.dot(x, self.W) + self.b)\n",
    "\n",
    "    def loss(self, x, y_true):\n",
    "        y_pred = self.forward(x)\n",
    "        n = y_true.shape[0]\n",
    "        return -np.sum(np.log(y_pred[np.arange(n), y_true])) / n\n",
    "\n",
    "    def grad_loss(self, x, y_true_one_hot, y_pred):\n",
    "        m = x.shape[0]\n",
    "        dz = y_pred - y_true_one_hot\n",
    "        dW = np.dot(x.T, dz) / m\n",
    "        db = np.sum(dz, axis=0, keepdims=True) / m\n",
    "        return dW, db\n",
    "\n",
    "# 4. Initialize model\n",
    "lr = LogisticRegression(input_size=784, output_size=10)\n",
    "learning_rate = 0.01\n",
    "epochs = 1  # Set to >1 for more robust training\n",
    "\n",
    "# 5. Train on a subset for demo\n",
    "for epoch in range(epochs):\n",
    "    for i in range(1000):  # training on first 1000 samples for speed\n",
    "        x = X_train[i:i+1]\n",
    "        y = y_train[i:i+1]\n",
    "        y_true_oh = one_hot(10, y)\n",
    "        y_pred = lr.forward(x)\n",
    "        grad_W, grad_b = lr.grad_loss(x, y_true_oh, y_pred)\n",
    "        lr.W -= learning_rate * grad_W\n",
    "        lr.b -= learning_rate * grad_b\n",
    "        if i % 200 == 0:\n",
    "            print(f\"Step {i}, Loss: {lr.loss(x, y):.4f}\")\n",
    "\n",
    "# 6. Evaluate\n",
    "y_pred_test = lr.forward(X_test)\n",
    "predicted_classes = np.argmax(y_pred_test, axis=1)\n",
    "accuracy = np.mean(predicted_classes == y_test)\n",
    "print(f\"\\n✅ Test Accuracy (first 1000-trained model): {accuracy:.4f}\")\n"
   ]
  },
  {
   "cell_type": "markdown",
   "metadata": {
    "collapsed": false
   },
   "source": [
    "Evaluate the trained model on the first example:"
   ]
  },
  {
   "cell_type": "code",
   "execution_count": null,
   "metadata": {
    "collapsed": false
   },
   "outputs": [
    {
     "data": {
      "image/png": "[encoded data removed]",
      "text/plain": [
       "<Figure size 1000x400 with 2 Axes>"
      ]
     },
     "metadata": {},
     "output_type": "display_data"
    }
   ],
   "source": [
    "plot_prediction(lr, sample_idx=0)"
   ]
  },
  {
   "cell_type": "markdown",
   "metadata": {},
   "source": [
    "## b) Feedforward Multilayer\n",
    "\n",
    "The objective of this section is to implement the backpropagation algorithm (SGD with the chain rule) on a single layer neural network using the sigmoid activation function.\n",
    "\n",
    "Now it's your turn to\n",
    "\n",
    "- Implement the `sigmoid` and its element-wise derivative `dsigmoid` functions:\n",
    "\n",
    "$$\n",
    "sigmoid(x) = \\frac{1}{1 + e^{-x}}\n",
    "$$\n",
    "\n",
    "$$\n",
    "dsigmoid(x) = sigmoid(x) \\cdot (1 - sigmoid(x))\n",
    "$$\n",
    "\n",
    "Remember that you can use your `sigmoid` function inside your `dsigmoid` function.\n",
    "\n",
    "Just like with our softmax function, we also want to make sure that we don't run into stability issues with our sigmoid function. We will use `np.clip` to ensure that the input to the sigmoid function is not too large or too small."
   ]
  },
  {
   "cell_type": "code",
   "execution_count": null,
   "metadata": {},
   "outputs": [
    {
     "data": {
      "image/png": "[encoded data removed]",
      "text/plain": [
       "<Figure size 640x480 with 1 Axes>"
      ]
     },
     "metadata": {},
     "output_type": "display_data"
    }
   ],
   "source": [
    "import numpy as np\n",
    "import matplotlib.pyplot as plt\n",
    "\n",
    "def sigmoid(X):\n",
    "    # Clip X to prevent overflow/underflow in exp()\n",
    "    X = np.clip(X, -500, 500)\n",
    "    return 1 / (1 + np.exp(-X))\n",
    "\n",
    "def dsigmoid(X):\n",
    "    s = sigmoid(X)\n",
    "    return s * (1 - s)\n",
    "\n",
    "# Generate input range\n",
    "x = np.linspace(-5, 5, 100)\n",
    "\n",
    "# Plot sigmoid and its derivative\n",
    "plt.plot(x, sigmoid(x), label='sigmoid')\n",
    "plt.plot(x, dsigmoid(x), label='dsigmoid', linestyle='--')\n",
    "plt.title(\"Sigmoid and its Derivative\")\n",
    "plt.xlabel(\"Input\")\n",
    "plt.ylabel(\"Output\")\n",
    "plt.legend(loc='best')\n",
    "plt.grid(True)\n",
    "plt.show()\n"
   ]
  },
  {
   "cell_type": "markdown",
   "metadata": {},
   "source": [
    "Now it's your turn to complete the neural network code, so that we can train it on the MNIST dataset.\n",
    "\n",
    "Some parts have been completed for you already. Often, you'll be able to refer back to the code from the previous section to help you complete the code in this section."
   ]
  },
  {
   "cell_type": "code",
   "execution_count": null,
   "metadata": {},
   "outputs": [],
   "source": [
    "import numpy as np\n",
    "\n",
    "def sigmoid(X):\n",
    "    X = np.clip(X, -500, 500)\n",
    "    return 1 / (1 + np.exp(-X))\n",
    "\n",
    "def dsigmoid(X):\n",
    "    s = sigmoid(X)\n",
    "    return s * (1 - s)\n",
    "\n",
    "def one_hot(num_classes, labels):\n",
    "    one_hot_matrix = np.zeros((len(labels), num_classes))\n",
    "    one_hot_matrix[np.arange(len(labels)), labels] = 1\n",
    "    return one_hot_matrix\n",
    "\n",
    "class NeuralNet():\n",
    "    \"\"\"MLP with 1 hidden layer using sigmoid activations\"\"\"\n",
    "\n",
    "    def __init__(self, input_size, hidden_size, output_size):\n",
    "        self.W_h = np.random.uniform(size=(input_size, hidden_size), low=-0.1, high=0.1)\n",
    "        self.b_h = np.random.uniform(size=hidden_size, low=-0.1, high=0.1)\n",
    "        self.W_o = np.random.uniform(size=(hidden_size, output_size), low=-0.1, high=0.1)\n",
    "        self.b_o = np.random.uniform(size=output_size, low=-0.1, high=0.1)\n",
    "        self.input_size = input_size\n",
    "        self.hidden_size = hidden_size\n",
    "        self.output_size = output_size\n",
    "\n",
    "    def forward_hidden(self, X):\n",
    "        self.Z_h = np.dot(X, self.W_h) + self.b_h\n",
    "        return sigmoid(self.Z_h)\n",
    "\n",
    "    def forward_output(self, H):\n",
    "        self.Z_o = np.dot(H, self.W_o) + self.b_o\n",
    "        return sigmoid(self.Z_o)\n",
    "\n",
    "    def forward(self, X):\n",
    "        H = self.forward_hidden(X)\n",
    "        Y = self.forward_output(H)\n",
    "        return Y\n",
    "\n",
    "    def loss(self, X, y):\n",
    "        y = y.astype(int)\n",
    "        y_onehot = one_hot(self.output_size, y)\n",
    "        y_pred = self.forward(X)\n",
    "        # Binary cross-entropy loss\n",
    "        epsilon = 1e-12\n",
    "        y_pred = np.clip(y_pred, epsilon, 1 - epsilon)\n",
    "        return -np.mean(np.sum(y_onehot * np.log(y_pred), axis=1))\n",
    "\n",
    "    def grad_loss(self, X, y_true):\n",
    "        y_true = one_hot(self.output_size, y_true)\n",
    "        y_pred = self.forward(X)\n",
    "\n",
    "        error_o = y_pred - y_true\n",
    "        grad_W_o = np.dot(self.Z_h.T, error_o)\n",
    "        grad_b_o = np.sum(error_o, axis=0)\n",
    "\n",
    "        error_h = np.dot(error_o, self.W_o.T) * dsigmoid(self.Z_h)\n",
    "        grad_W_h = np.dot(X.T, error_h)\n",
    "        grad_b_h = np.sum(error_h, axis=0)\n",
    "\n",
    "        return {\"W_h\": grad_W_h, \"b_h\": grad_b_h, \"W_o\": grad_W_o, \"b_o\": grad_b_o}\n",
    "\n",
    "    def train(self, x, y, learning_rate):\n",
    "        x = x[np.newaxis, :]  # Ensure 2D\n",
    "        grads = self.grad_loss(x, y)\n",
    "\n",
    "        self.W_h -= learning_rate * grads[\"W_h\"]\n",
    "        self.b_h -= learning_rate * grads[\"b_h\"]\n",
    "        self.W_o -= learning_rate * grads[\"W_o\"]\n",
    "        self.b_o -= learning_rate * grads[\"b_o\"]\n",
    "\n",
    "    def predict(self, X):\n",
    "        if len(X.shape) == 1:\n",
    "            return np.argmax(self.forward(X[np.newaxis, :]))\n",
    "        return np.argmax(self.forward(X), axis=1)\n",
    "\n",
    "    def accuracy(self, X, y):\n",
    "        return np.mean(self.predict(X) == y)\n"
   ]
  },
  {
   "cell_type": "markdown",
   "metadata": {
    "collapsed": false
   },
   "source": [
    "Once the code is written, we can test our model on a single sample:"
   ]
  },
  {
   "cell_type": "code",
   "execution_count": null,
   "metadata": {},
   "outputs": [
    {
     "name": "stdout",
     "output_type": "stream",
     "text": [
      "True label: 2\n",
      "Predicted label: [5]\n",
      "Output probabilities:\n",
      "[0.092 0.001 0.    0.003 0.167 0.729 0.    0.    0.    0.008]\n"
     ]
    }
   ],
   "source": [
    "sample_idx = 0\n",
    "sample_input = X_test[sample_idx]\n",
    "true_label = y_test[sample_idx]\n",
    "\n",
    "predicted_label = model.predict(sample_input)\n",
    "output_probs = model.forward(sample_input[np.newaxis, :])[0]\n",
    "\n",
    "print(f\"True label: {true_label}\")\n",
    "print(f\"Predicted label: {predicted_label}\")\n",
    "print(\"Output probabilities:\")\n",
    "print(np.round(output_probs, 3))\n"
   ]
  },
  {
   "cell_type": "markdown",
   "metadata": {},
   "source": []
  },
  {
   "cell_type": "code",
   "execution_count": null,
   "metadata": {},
   "outputs": [
    {
     "name": "stdout",
     "output_type": "stream",
     "text": [
      "Step 0, Loss: 17.8508\n",
      "Step 100, Loss: 4.8958\n",
      "Step 200, Loss: 4.7558\n",
      "Step 300, Loss: 3.8524\n",
      "Step 400, Loss: 1.5188\n",
      "Step 500, Loss: 1.3813\n",
      "Step 600, Loss: 3.2419\n",
      "Step 700, Loss: 4.0607\n",
      "Step 800, Loss: 1.3463\n",
      "Step 900, Loss: 1.3155\n",
      "Step 1000, Loss: 3.7052\n",
      "Step 1100, Loss: 1.9729\n",
      "Step 1200, Loss: 1.3523\n",
      "Step 1300, Loss: 4.9262\n",
      "Step 1400, Loss: 3.8124\n",
      "Step 1500, Loss: 1.6748\n",
      "Train Accuracy: 0.8409\n",
      "Test Accuracy: 0.8296\n"
     ]
    }
   ],
   "source": [
    "# Initialize model\n",
    "import numpy as np\n",
    "\n",
    "# One-hot encoding helper\n",
    "def one_hot(num_classes, labels):\n",
    "    one_hot_matrix = np.zeros((len(labels), num_classes))\n",
    "    one_hot_matrix[np.arange(len(labels)), labels] = 1\n",
    "    return one_hot_matrix\n",
    "\n",
    "# Logistic Regression Model\n",
    "class LogisticRegression:\n",
    "    def __init__(self, input_size, output_size):\n",
    "        self.W = np.random.uniform(low=-0.1, high=0.1, size=(input_size, output_size))\n",
    "        self.b = np.random.uniform(low=-0.1, high=0.1, size=output_size)\n",
    "        self.input_size = input_size\n",
    "        self.output_size = output_size\n",
    "\n",
    "    def forward(self, X):\n",
    "        Z = np.dot(X, self.W) + self.b\n",
    "        exp_Z = np.exp(Z - np.max(Z, axis=1, keepdims=True))  # stability\n",
    "        return exp_Z / np.sum(exp_Z, axis=1, keepdims=True)\n",
    "\n",
    "    def predict(self, X):\n",
    "        if len(X.shape) == 1:\n",
    "            X = X.reshape(1, -1)\n",
    "        return np.argmax(self.forward(X), axis=1)\n",
    "\n",
    "    def loss(self, X, y):\n",
    "        y_pred = self.forward(X)\n",
    "        log_likelihood = -np.log(y_pred[np.arange(len(y)), y])\n",
    "        return np.mean(log_likelihood)\n",
    "\n",
    "    def grad_loss(self, X, y, y_pred):\n",
    "        y_true_onehot = one_hot(self.output_size, y)\n",
    "        grad_W = np.dot(X.T, (y_pred - y_true_onehot)) / len(X)\n",
    "        grad_b = np.sum(y_pred - y_true_onehot, axis=0) / len(X)\n",
    "        return grad_W, grad_b\n",
    "\n",
    "    def accuracy(self, X, y):\n",
    "        predictions = self.predict(X)\n",
    "        return np.mean(predictions == y)\n",
    "\n",
    "# ----------- TRAINING -----------\n",
    "\n",
    "# Replace these with your actual dataset if not already loaded\n",
    "# from keras.datasets import digits/fashion_mnist/etc.\n",
    "# Ensure X_train, y_train, X_test, y_test are loaded and preprocessed\n",
    "\n",
    "# Example initialization\n",
    "model = LogisticRegression(input_size=X_train.shape[1], output_size=10)\n",
    "learning_rate = 0.01\n",
    "\n",
    "# Training loop\n",
    "for i in range(len(X_train)):\n",
    "    x = X_train[i:i+1]\n",
    "    y = y_train[i:i+1]\n",
    "    y_pred = model.forward(x)\n",
    "    grad_W, grad_b = model.grad_loss(x, y, y_pred)\n",
    "    model.W -= learning_rate * grad_W\n",
    "    model.b -= learning_rate * grad_b\n",
    "\n",
    "    if i % 100 == 0:\n",
    "        loss_val = model.loss(X_train, y_train)\n",
    "        print(f\"Step {i}, Loss: {loss_val:.4f}\")\n",
    "\n",
    "# Evaluation\n",
    "train_acc = model.accuracy(X_train, y_train)\n",
    "test_acc = model.accuracy(X_test, y_test)\n",
    "\n",
    "print(f\"Train Accuracy: {train_acc:.4f}\")\n",
    "print(f\"Test Accuracy: {test_acc:.4f}\")\n"
   ]
  },
  {
   "cell_type": "code",
   "execution_count": null,
   "metadata": {},
   "outputs": [
    {
     "name": "stdout",
     "output_type": "stream",
     "text": [
      "Step 0, Avg NLL: 0.0076\n",
      "Step 100, Avg NLL: 4.1727\n",
      "Step 200, Avg NLL: 0.7183\n",
      "Step 300, Avg NLL: 6.4509\n",
      "Step 400, Avg NLL: 3.1322\n",
      "Step 500, Avg NLL: 3.7865\n",
      "Step 600, Avg NLL: 0.4783\n",
      "Step 700, Avg NLL: 0.6092\n",
      "Step 800, Avg NLL: 0.7108\n",
      "Step 900, Avg NLL: 1.2903\n",
      "Step 1000, Avg NLL: 0.6618\n",
      "Step 1100, Avg NLL: 0.8103\n",
      "Step 1200, Avg NLL: 4.8770\n",
      "Step 1300, Avg NLL: 0.7301\n",
      "Step 1400, Avg NLL: 0.9959\n",
      "Step 1500, Avg NLL: 1.3134\n",
      "Train Accuracy: 0.8513\n",
      "Test Accuracy: 0.8407\n"
     ]
    }
   ],
   "source": [
    "import numpy as np\n",
    "\n",
    "def one_hot(num_classes, labels):\n",
    "    one_hot_matrix = np.zeros((len(labels), num_classes))\n",
    "    one_hot_matrix[np.arange(len(labels)), labels] = 1\n",
    "    return one_hot_matrix\n",
    "\n",
    "class LogisticRegression:\n",
    "    def __init__(self, input_size, output_size):\n",
    "        self.W = np.random.uniform(low=-0.1, high=0.1, size=(input_size, output_size))\n",
    "        self.b = np.random.uniform(low=-0.1, high=0.1, size=output_size)\n",
    "        self.input_size = input_size\n",
    "        self.output_size = output_size\n",
    "\n",
    "    def forward(self, X):\n",
    "        Z = np.dot(X, self.W) + self.b\n",
    "        exp_Z = np.exp(Z - np.max(Z, axis=1, keepdims=True))  # numerical stability\n",
    "        return exp_Z / np.sum(exp_Z, axis=1, keepdims=True)\n",
    "\n",
    "    def predict(self, X):\n",
    "        if len(X.shape) == 1:\n",
    "            X = X.reshape(1, -1)\n",
    "        return np.argmax(self.forward(X), axis=1)\n",
    "\n",
    "    def loss(self, X, y):\n",
    "        y_pred = self.forward(X)\n",
    "        log_likelihood = -np.log(y_pred[range(len(y)), y.astype(int)])\n",
    "        return np.mean(log_likelihood)\n",
    "\n",
    "    def grad_loss(self, X, y_true, y_pred):\n",
    "        y_true_onehot = one_hot(self.output_size, y_true.astype(int))\n",
    "        grad_W = np.dot(X.T, (y_pred - y_true_onehot)) / len(X)\n",
    "        grad_b = np.sum(y_pred - y_true_onehot, axis=0) / len(X)\n",
    "        return grad_W, grad_b\n",
    "\n",
    "    def accuracy(self, X, y):\n",
    "        y_pred = self.predict(X)\n",
    "        return np.mean(y_pred == y)\n",
    "\n",
    "# Example training loop\n",
    "lr = LogisticRegression(input_size=X_train.shape[1], output_size=10)\n",
    "learning_rate = 0.01\n",
    "\n",
    "for i in range(len(X_train)):\n",
    "    x = X_train[i:i+1]\n",
    "    y = y_train[i:i+1]\n",
    "    y_pred = lr.forward(x)\n",
    "    grad_W, grad_b = lr.grad_loss(x, y, y_pred)\n",
    "    lr.W -= learning_rate * grad_W\n",
    "    lr.b -= learning_rate * grad_b\n",
    "\n",
    "    if i % 100 == 0:\n",
    "        avg_nll = lr.loss(X_train[max(0, i-100):i+1], y_train[max(0, i-100):i+1])\n",
    "        print(f\"Step {i}, Avg NLL: {avg_nll:.4f}\")\n",
    "\n",
    "# Evaluate model accuracy\n",
    "train_acc = lr.accuracy(X_train, y_train)\n",
    "test_acc = lr.accuracy(X_test, y_test)\n",
    "print(f\"Train Accuracy: {train_acc:.4f}\")\n",
    "print(f\"Test Accuracy: {test_acc:.4f}\")\n"
   ]
  },
  {
   "cell_type": "code",
   "execution_count": null,
   "metadata": {},
   "outputs": [
    {
     "data": {
      "image/png": "[encoded data removed]",
      "text/plain": [
       "<Figure size 1000x400 with 2 Axes>"
      ]
     },
     "metadata": {},
     "output_type": "display_data"
    }
   ],
   "source": [
    "plot_prediction(model, sample_idx=5)"
   ]
  },
  {
   "cell_type": "markdown",
   "metadata": {
    "collapsed": false
   },
   "source": [
    "And now it's time to train!"
   ]
  },
  {
   "cell_type": "code",
   "execution_count": null,
   "metadata": {},
   "outputs": [],
   "source": [
    "def grad_loss(self, X, y_true):\n",
    "    # Ensure y_true is an array of shape (1,) if it's a single label\n",
    "    if np.isscalar(y_true):\n",
    "        y_true = np.array([y_true])\n",
    "    \n",
    "    y_true = one_hot(self.output_size, y_true)\n",
    "    y_pred = self.forward(X)\n",
    "\n",
    "    error_o = y_pred - y_true\n",
    "    grad_W_o = np.dot(self.Z_h.T, error_o)\n",
    "    grad_b_o = np.sum(error_o, axis=0)\n",
    "\n",
    "    error_h = np.dot(error_o, self.W_o.T) * dsigmoid(self.Z_h)\n",
    "    grad_W_h = np.dot(X.T, error_h)\n",
    "    grad_b_h = np.sum(error_h, axis=0)\n",
    "\n",
    "    return {\"W_h\": grad_W_h, \"b_h\": grad_b_h, \"W_o\": grad_W_o, \"b_o\": grad_b_o}\n"
   ]
  },
  {
   "cell_type": "code",
   "execution_count": null,
   "metadata": {},
   "outputs": [
    {
     "name": "stdout",
     "output_type": "stream",
     "text": [
      "Epoch 1/10\n",
      "\u001b[1m1500/1500\u001b[0m \u001b[32m━━━━━━━━━━━━━━━━━━━━\u001b[0m\u001b[37m\u001b[0m \u001b[1m20s\u001b[0m 11ms/step - accuracy: 0.7730 - loss: 0.6506 - val_accuracy: 0.8362 - val_loss: 0.4549\n",
      "Epoch 2/10\n",
      "\u001b[1m1500/1500\u001b[0m \u001b[32m━━━━━━━━━━━━━━━━━━━━\u001b[0m\u001b[37m\u001b[0m \u001b[1m14s\u001b[0m 9ms/step - accuracy: 0.8607 - loss: 0.3920 - val_accuracy: 0.8620 - val_loss: 0.3947\n",
      "Epoch 3/10\n",
      "\u001b[1m1500/1500\u001b[0m \u001b[32m━━━━━━━━━━━━━━━━━━━━\u001b[0m\u001b[37m\u001b[0m \u001b[1m12s\u001b[0m 8ms/step - accuracy: 0.8722 - loss: 0.3531 - val_accuracy: 0.8755 - val_loss: 0.3521\n",
      "Epoch 4/10\n",
      "\u001b[1m1500/1500\u001b[0m \u001b[32m━━━━━━━━━━━━━━━━━━━━\u001b[0m\u001b[37m\u001b[0m \u001b[1m17s\u001b[0m 11ms/step - accuracy: 0.8819 - loss: 0.3246 - val_accuracy: 0.8839 - val_loss: 0.3314\n",
      "Epoch 5/10\n",
      "\u001b[1m1500/1500\u001b[0m \u001b[32m━━━━━━━━━━━━━━━━━━━━\u001b[0m\u001b[37m\u001b[0m \u001b[1m11s\u001b[0m 7ms/step - accuracy: 0.8907 - loss: 0.2963 - val_accuracy: 0.8797 - val_loss: 0.3381\n",
      "Epoch 6/10\n",
      "\u001b[1m1500/1500\u001b[0m \u001b[32m━━━━━━━━━━━━━━━━━━━━\u001b[0m\u001b[37m\u001b[0m \u001b[1m11s\u001b[0m 7ms/step - accuracy: 0.8917 - loss: 0.2862 - val_accuracy: 0.8823 - val_loss: 0.3300\n",
      "Epoch 7/10\n",
      "\u001b[1m1500/1500\u001b[0m \u001b[32m━━━━━━━━━━━━━━━━━━━━\u001b[0m\u001b[37m\u001b[0m \u001b[1m12s\u001b[0m 8ms/step - accuracy: 0.8995 - loss: 0.2713 - val_accuracy: 0.8839 - val_loss: 0.3212\n",
      "Epoch 8/10\n",
      "\u001b[1m1500/1500\u001b[0m \u001b[32m━━━━━━━━━━━━━━━━━━━━\u001b[0m\u001b[37m\u001b[0m \u001b[1m14s\u001b[0m 9ms/step - accuracy: 0.9016 - loss: 0.2623 - val_accuracy: 0.8838 - val_loss: 0.3315\n",
      "Epoch 9/10\n",
      "\u001b[1m1500/1500\u001b[0m \u001b[32m━━━━━━━━━━━━━━━━━━━━\u001b[0m\u001b[37m\u001b[0m \u001b[1m15s\u001b[0m 10ms/step - accuracy: 0.9069 - loss: 0.2494 - val_accuracy: 0.8797 - val_loss: 0.3399\n",
      "Epoch 10/10\n",
      "\u001b[1m1500/1500\u001b[0m \u001b[32m━━━━━━━━━━━━━━━━━━━━\u001b[0m\u001b[37m\u001b[0m \u001b[1m17s\u001b[0m 12ms/step - accuracy: 0.9124 - loss: 0.2346 - val_accuracy: 0.8823 - val_loss: 0.3357\n"
     ]
    },
    {
     "data": {
      "image/png": "[encoded data removed]",
      "text/plain": [
       "<Figure size 640x480 with 1 Axes>"
      ]
     },
     "metadata": {},
     "output_type": "display_data"
    },
    {
     "name": "stdout",
     "output_type": "stream",
     "text": [
      "✅ Test Accuracy: 0.8762\n"
     ]
    }
   ],
   "source": [
    "# 1. Import Libraries\n",
    "import numpy as np\n",
    "import matplotlib.pyplot as plt\n",
    "from tensorflow.keras.datasets import fashion_mnist\n",
    "from tensorflow.keras.models import Sequential\n",
    "from tensorflow.keras.layers import Dense, Flatten\n",
    "from tensorflow.keras.utils import to_categorical\n",
    "\n",
    "# 2. Load and Preprocess Data\n",
    "(X_train, y_train), (X_test, y_test) = fashion_mnist.load_data()\n",
    "X_train, X_test = X_train / 255.0, X_test / 255.0  # Normalize\n",
    "\n",
    "y_train = to_categorical(y_train, num_classes=10)\n",
    "y_test = to_categorical(y_test, num_classes=10)\n",
    "\n",
    "# 3. Build the Model\n",
    "model = Sequential([\n",
    "    Flatten(input_shape=(28, 28)),\n",
    "    Dense(128, activation='relu'),\n",
    "    Dense(10, activation='softmax')\n",
    "])\n",
    "\n",
    "# 4. Compile the Model\n",
    "model.compile(optimizer='adam',\n",
    "              loss='categorical_crossentropy',\n",
    "              metrics=['accuracy'])\n",
    "\n",
    "# 5. Train the Model\n",
    "history = model.fit(X_train, y_train,\n",
    "                    epochs=10,\n",
    "                    batch_size=32,\n",
    "                    validation_split=0.2,\n",
    "                    verbose=1)\n",
    "\n",
    "# 6. Plot Training and Validation Loss\n",
    "plt.plot(history.history['loss'], label='Training Loss')\n",
    "plt.plot(history.history['val_loss'], label='Validation Loss')\n",
    "plt.title(\"Loss over Epochs\")\n",
    "plt.xlabel(\"Epoch\")\n",
    "plt.ylabel(\"Loss\")\n",
    "plt.legend()\n",
    "plt.grid(True)\n",
    "plt.show()\n",
    "\n",
    "# 7. Evaluate the Model\n",
    "test_loss, test_accuracy = model.evaluate(X_test, y_test, verbose=0)\n",
    "print(f\"✅ Test Accuracy: {test_accuracy:.4f}\")\n",
    "\n"
   ]
  },
  {
   "cell_type": "code",
   "execution_count": null,
   "metadata": {},
   "outputs": [
    {
     "name": "stdout",
     "output_type": "stream",
     "text": [
      "Epoch 1/10\n",
      "\u001b[1m1500/1500\u001b[0m \u001b[32m━━━━━━━━━━━━━━━━━━━━\u001b[0m\u001b[37m\u001b[0m \u001b[1m17s\u001b[0m 11ms/step - accuracy: 0.8119 - loss: 0.5510 - val_accuracy: 0.8866 - val_loss: 0.3158\n",
      "Epoch 2/10\n",
      "\u001b[1m1500/1500\u001b[0m \u001b[32m━━━━━━━━━━━━━━━━━━━━\u001b[0m\u001b[37m\u001b[0m \u001b[1m16s\u001b[0m 11ms/step - accuracy: 0.8973 - loss: 0.2824 - val_accuracy: 0.8970 - val_loss: 0.2819\n",
      "Epoch 3/10\n",
      "\u001b[1m1500/1500\u001b[0m \u001b[32m━━━━━━━━━━━━━━━━━━━━\u001b[0m\u001b[37m\u001b[0m \u001b[1m16s\u001b[0m 11ms/step - accuracy: 0.9180 - loss: 0.2242 - val_accuracy: 0.8972 - val_loss: 0.2805\n",
      "Epoch 4/10\n",
      "\u001b[1m1500/1500\u001b[0m \u001b[32m━━━━━━━━━━━━━━━━━━━━\u001b[0m\u001b[37m\u001b[0m \u001b[1m17s\u001b[0m 11ms/step - accuracy: 0.9286 - loss: 0.1913 - val_accuracy: 0.9117 - val_loss: 0.2447\n",
      "Epoch 5/10\n",
      "\u001b[1m1500/1500\u001b[0m \u001b[32m━━━━━━━━━━━━━━━━━━━━\u001b[0m\u001b[37m\u001b[0m \u001b[1m20s\u001b[0m 13ms/step - accuracy: 0.9414 - loss: 0.1589 - val_accuracy: 0.9063 - val_loss: 0.2666\n",
      "Epoch 6/10\n",
      "\u001b[1m1500/1500\u001b[0m \u001b[32m━━━━━━━━━━━━━━━━━━━━\u001b[0m\u001b[37m\u001b[0m \u001b[1m19s\u001b[0m 13ms/step - accuracy: 0.9481 - loss: 0.1386 - val_accuracy: 0.9132 - val_loss: 0.2587\n",
      "Epoch 7/10\n",
      "\u001b[1m1500/1500\u001b[0m \u001b[32m━━━━━━━━━━━━━━━━━━━━\u001b[0m\u001b[37m\u001b[0m \u001b[1m19s\u001b[0m 12ms/step - accuracy: 0.9591 - loss: 0.1119 - val_accuracy: 0.9058 - val_loss: 0.3079\n",
      "Epoch 8/10\n",
      "\u001b[1m1500/1500\u001b[0m \u001b[32m━━━━━━━━━━━━━━━━━━━━\u001b[0m\u001b[37m\u001b[0m \u001b[1m24s\u001b[0m 16ms/step - accuracy: 0.9644 - loss: 0.0969 - val_accuracy: 0.9104 - val_loss: 0.2944\n",
      "Epoch 9/10\n",
      "\u001b[1m1500/1500\u001b[0m \u001b[32m━━━━━━━━━━━━━━━━━━━━\u001b[0m\u001b[37m\u001b[0m \u001b[1m27s\u001b[0m 18ms/step - accuracy: 0.9726 - loss: 0.0754 - val_accuracy: 0.9180 - val_loss: 0.2986\n",
      "Epoch 10/10\n",
      "\u001b[1m1500/1500\u001b[0m \u001b[32m━━━━━━━━━━━━━━━━━━━━\u001b[0m\u001b[37m\u001b[0m \u001b[1m22s\u001b[0m 15ms/step - accuracy: 0.9767 - loss: 0.0627 - val_accuracy: 0.9173 - val_loss: 0.3273\n",
      "\n",
      "✅ CNN Test Accuracy: 0.9168\n"
     ]
    },
    {
     "data": {
      "image/png": "[encoded data removed]",
      "text/plain": [
       "<Figure size 1200x500 with 2 Axes>"
      ]
     },
     "metadata": {},
     "output_type": "display_data"
    }
   ],
   "source": [
    "# Step 1: Import Libraries\n",
    "import numpy as np\n",
    "import matplotlib.pyplot as plt\n",
    "from tensorflow.keras.models import Sequential\n",
    "from tensorflow.keras.layers import Conv2D, MaxPooling2D, Flatten, Dense\n",
    "from tensorflow.keras.datasets import fashion_mnist\n",
    "from tensorflow.keras.utils import to_categorical\n",
    "\n",
    "# Step 2: Load and preprocess data\n",
    "(X_train, y_train), (X_test, y_test) = fashion_mnist.load_data()\n",
    "\n",
    "# Normalize and reshape\n",
    "X_train = X_train.astype('float32') / 255.0\n",
    "X_test = X_test.astype('float32') / 255.0\n",
    "X_train = np.expand_dims(X_train, -1)  # (60000, 28, 28, 1)\n",
    "X_test = np.expand_dims(X_test, -1)\n",
    "\n",
    "# One-hot encode labels\n",
    "y_train = to_categorical(y_train, 10)\n",
    "y_test = to_categorical(y_test, 10)\n",
    "\n",
    "# Step 3: Build the CNN model\n",
    "cnn_model = Sequential([\n",
    "    Conv2D(32, kernel_size=(3, 3), activation='relu', input_shape=(28, 28, 1)),\n",
    "    MaxPooling2D(pool_size=(2, 2)),\n",
    "    Flatten(),\n",
    "    Dense(128, activation='relu'),\n",
    "    Dense(10, activation='softmax')\n",
    "])\n",
    "\n",
    "# Step 4: Compile the model\n",
    "cnn_model.compile(optimizer='adam',\n",
    "                  loss='categorical_crossentropy',\n",
    "                  metrics=['accuracy'])\n",
    "\n",
    "# Step 5: Train the model\n",
    "cnn_history = cnn_model.fit(X_train, y_train,\n",
    "                            epochs=10,\n",
    "                            batch_size=32,\n",
    "                            validation_split=0.2,\n",
    "                            verbose=1)\n",
    "\n",
    "# Step 6: Evaluate on test set\n",
    "test_loss, test_accuracy = cnn_model.evaluate(X_test, y_test, verbose=0)\n",
    "print(f\"\\n✅ CNN Test Accuracy: {test_accuracy:.4f}\")\n",
    "\n",
    "# Step 7: Plot accuracy and loss curves\n",
    "plt.figure(figsize=(12, 5))\n",
    "\n",
    "# Accuracy Plot\n",
    "plt.subplot(1, 2, 1)\n",
    "plt.plot(cnn_history.history['accuracy'], label='Train Accuracy')\n",
    "plt.plot(cnn_history.history['val_accuracy'], label='Validation Accuracy')\n",
    "plt.title(\"Training vs Validation Accuracy\")\n",
    "plt.xlabel(\"Epoch\")\n",
    "plt.ylabel(\"Accuracy\")\n",
    "plt.legend()\n",
    "plt.grid(True)\n",
    "\n",
    "# Loss Plot\n",
    "plt.subplot(1, 2, 2)\n",
    "plt.plot(cnn_history.history['loss'], label='Train Loss')\n",
    "plt.plot(cnn_history.history['val_loss'], label='Validation Loss')\n",
    "plt.title(\"Training vs Validation Loss\")\n",
    "plt.xlabel(\"Epoch\")\n",
    "plt.ylabel(\"Loss\")\n",
    "plt.legend()\n",
    "plt.grid(True)\n",
    "\n",
    "plt.tight_layout()\n",
    "plt.show()\n",
    "\n"
   ]
  },
  {
   "cell_type": "code",
   "execution_count": null,
   "metadata": {},
   "outputs": [
    {
     "data": {
      "image/png": "[encoded data removed]",
      "text/plain": [
       "<Figure size 1000x400 with 2 Axes>"
      ]
     },
     "metadata": {},
     "output_type": "display_data"
    }
   ],
   "source": [
    "plot_prediction(model, sample_idx=4)"
   ]
  },
  {
   "cell_type": "markdown",
   "metadata": {},
   "source": [
    "## c) Exercises\n",
    "\n",
    "### Look at worst prediction errors\n",
    "\n",
    "- Use numpy to find test samples for which the model made the worst predictions,\n",
    "- Use the `plot_prediction` to look at the model predictions on those,\n",
    "- Would you have done any better?"
   ]
  },
  {
   "cell_type": "code",
   "execution_count": null,
   "metadata": {},
   "outputs": [
    {
     "ename": "SyntaxError",
     "evalue": "unexpected EOF while parsing (49352013.py, line 34)",
     "output_type": "error",
     "traceback": [
      "\u001b[1;36m  Cell \u001b[1;32mIn[32], line 34\u001b[1;36m\u001b[0m\n\u001b[1;33m    predicted_classes = np.argmax(p_\u001b[0m\n\u001b[1;37m                                    ^\u001b[0m\n\u001b[1;31mSyntaxError\u001b[0m\u001b[1;31m:\u001b[0m unexpected EOF while parsing\n"
     ]
    }
   ],
   "source": [
    "# Step 1: Import Libraries\n",
    "import numpy as np\n",
    "import matplotlib.pyplot as plt\n",
    "from tensorflow.keras.datasets import fashion_mnist\n",
    "from tensorflow.keras.models import Sequential\n",
    "from tensorflow.keras.layers import Conv2D, MaxPooling2D, Dropout, Flatten, Dense\n",
    "from tensorflow.keras.utils import to_categorical\n",
    "\n",
    "# Step 2: Load and preprocess data\n",
    "(X_train, y_train), (X_test, y_test) = fashion_mnist.load_data()\n",
    "\n",
    "# Reshape and normalize\n",
    "X_train = X_train.reshape(-1, 28, 28, 1).astype('float32') / 255.\n",
    "X_test = X_test.reshape(-1, 28, 28, 1).astype('float32') / 255.\n",
    "\n",
    "# One-hot encode labels\n",
    "y_train = to_categorical(y_train, 10)\n",
    "y_test = to_categorical(y_test, 10)\n",
    "\n",
    "# Step 3: Build CNN model\n",
    "final_model = Sequential()\n",
    "final_model.add(Conv2D(64, kernel_size=(3, 3), activation='relu', input_shape=(28, 28, 1)))\n",
    "final_model.add(MaxPooling2D(pool_size=(2, 2)))\n",
    "final_model.add(Dropout(0.3))\n",
    "final_model.add(Flatten())\n",
    "final_model.add(Dense(10, activation='softmax'))\n",
    "\n",
    "# Step 4: Compile and train\n",
    "final_model.compile(optimizer='adam', loss='categorical_crossentropy', metrics=['accuracy'])\n",
    "final_model.fit(X_train, y_train, epochs=5, batch_size=32, validation_split=0.2, verbose=1)\n",
    "\n",
    "# Step 5: Make predictions\n",
    "predictions = final_model.predict(X_test)\n",
    "predicted_classes = np.argmax(predictions, axis=1)\n",
    "true_classes = np.argmax(y_test, axis=1)\n",
    "confidence_scores = np.max(predictions, axis=1)\n",
    "\n",
    "# Step 6: Find top 9 incorrect predictions with highest confidence\n",
    "incorrect_mask = predicted_classes != true_classes\n",
    "incorrect_indices = np.where(incorrect_mask)[0]\n",
    "incorrect_confidences = confidence_scores[incorrect_indices]\n",
    "sorted_idx = incorrect_indices[np.argsort(-incorrect_confidences)]\n",
    "worst_indices = sorted_idx[:9]\n",
    "\n",
    "# Step 7: Visualize the worst predictions\n",
    "fig, axes = plt.subplots(3, 3, figsize=(8, 8))\n",
    "for i, ax in enumerate(axes.flat):\n",
    "    idx = worst_indices[i]\n",
    "    ax.imshow(X_test[idx].reshape(28, 28), cmap='gray')\n",
    "    ax.set_title(f\"Pred: {predicted_classes[idx]}, True: {true_classes[idx]}\")\n",
    "    ax.axis('off')\n",
    "plt.tight_layout()\n",
    "plt.show()\n"
   ]
  },
  {
   "cell_type": "markdown",
   "metadata": {},
   "source": [
    "### Hyper parameters settings\n",
    "\n",
    "- Experiment with different hyperparameters:\n",
    "  - learning rate,\n",
    "  - size of hidden layer,\n",
    "  - implement the support for a second hidden layer.\n",
    "  - What is the best test accuracy you can get?"
   ]
  },
  {
   "cell_type": "code",
   "execution_count": null,
   "metadata": {
    "collapsed": false
   },
   "outputs": [
    {
     "name": "stdout",
     "output_type": "stream",
     "text": [
      "Epoch 1: Loss=2.3186, Train Acc=0.101, Test Acc=0.092\n",
      "Epoch 2: Loss=2.3061, Train Acc=0.101, Test Acc=0.092\n",
      "Epoch 3: Loss=2.2814, Train Acc=0.104, Test Acc=0.094\n",
      "Epoch 4: Loss=2.2020, Train Acc=0.246, Test Acc=0.267\n",
      "Epoch 5: Loss=1.9035, Train Acc=0.372, Test Acc=0.367\n",
      "Epoch 6: Loss=1.4241, Train Acc=0.633, Test Acc=0.625\n",
      "Epoch 7: Loss=1.1184, Train Acc=0.711, Test Acc=0.694\n",
      "Epoch 8: Loss=0.9532, Train Acc=0.766, Test Acc=0.758\n",
      "Epoch 9: Loss=0.8374, Train Acc=0.816, Test Acc=0.819\n",
      "Epoch 10: Loss=0.7327, Train Acc=0.852, Test Acc=0.861\n",
      "Epoch 11: Loss=0.6316, Train Acc=0.871, Test Acc=0.878\n",
      "Epoch 12: Loss=0.5468, Train Acc=0.891, Test Acc=0.881\n",
      "Epoch 13: Loss=0.4803, Train Acc=0.911, Test Acc=0.900\n",
      "Epoch 14: Loss=0.4249, Train Acc=0.919, Test Acc=0.908\n",
      "Epoch 15: Loss=0.3756, Train Acc=0.931, Test Acc=0.917\n",
      "\n",
      "🎯 Best Test Accuracy: 0.917\n"
     ]
    },
    {
     "data": {
      "image/png": "[encoded data removed]",
      "text/plain": [
       "<Figure size 640x480 with 1 Axes>"
      ]
     },
     "metadata": {},
     "output_type": "display_data"
    }
   ],
   "source": [
    "import numpy as np\n",
    "import matplotlib.pyplot as plt\n",
    "from sklearn.datasets import load_digits\n",
    "from sklearn.model_selection import train_test_split\n",
    "from sklearn.preprocessing import StandardScaler\n",
    "\n",
    "# --------------------- Helper Functions ---------------------\n",
    "def sigmoid(X):\n",
    "    X = np.clip(X, -500, 500)\n",
    "    return 1 / (1 + np.exp(-X))\n",
    "\n",
    "def dsigmoid(X):\n",
    "    s = sigmoid(X)\n",
    "    return s * (1 - s)\n",
    "\n",
    "def one_hot(num_classes, labels):\n",
    "    one_hot_matrix = np.zeros((len(labels), num_classes))\n",
    "    one_hot_matrix[np.arange(len(labels)), labels] = 1\n",
    "    return one_hot_matrix\n",
    "\n",
    "# --------------------- Neural Network ---------------------\n",
    "class NeuralNet:\n",
    "    def __init__(self, input_size, hidden_size_1, output_size, hidden_size_2=None):\n",
    "        self.use_second_hidden = hidden_size_2 is not None\n",
    "\n",
    "        self.W1 = np.random.uniform(-0.1, 0.1, size=(input_size, hidden_size_1))\n",
    "        self.b1 = np.random.uniform(-0.1, 0.1, size=hidden_size_1)\n",
    "\n",
    "        if self.use_second_hidden:\n",
    "            self.W2 = np.random.uniform(-0.1, 0.1, size=(hidden_size_1, hidden_size_2))\n",
    "            self.b2 = np.random.uniform(-0.1, 0.1, size=hidden_size_2)\n",
    "            self.W_out = np.random.uniform(-0.1, 0.1, size=(hidden_size_2, output_size))\n",
    "        else:\n",
    "            self.W_out = np.random.uniform(-0.1, 0.1, size=(hidden_size_1, output_size))\n",
    "\n",
    "        self.b_out = np.random.uniform(-0.1, 0.1, size=output_size)\n",
    "\n",
    "    def forward(self, X):\n",
    "        self.Z1 = np.dot(X, self.W1) + self.b1\n",
    "        self.A1 = sigmoid(self.Z1)\n",
    "\n",
    "        if self.use_second_hidden:\n",
    "            self.Z2 = np.dot(self.A1, self.W2) + self.b2\n",
    "            self.A2 = sigmoid(self.Z2)\n",
    "            self.Z_out = np.dot(self.A2, self.W_out) + self.b_out\n",
    "        else:\n",
    "            self.Z_out = np.dot(self.A1, self.W_out) + self.b_out\n",
    "\n",
    "        return sigmoid(self.Z_out)\n",
    "\n",
    "    def loss(self, X, y):\n",
    "        y = y.astype(int)\n",
    "        y_onehot = one_hot(self.W_out.shape[1], y)\n",
    "        y_pred = self.forward(X)\n",
    "        y_pred = np.clip(y_pred, 1e-12, 1 - 1e-12)\n",
    "        return -np.mean(np.sum(y_onehot * np.log(y_pred), axis=1))\n",
    "\n",
    "    def accuracy(self, X, y):\n",
    "        return np.mean(self.predict(X) == y)\n",
    "\n",
    "    def predict(self, X):\n",
    "        if len(X.shape) == 1:\n",
    "            X = X[np.newaxis, :]\n",
    "        return np.argmax(self.forward(X), axis=1)\n",
    "\n",
    "    def train(self, x, y, lr):\n",
    "        if np.isscalar(y):\n",
    "            y = np.array([y])\n",
    "        x = x[np.newaxis, :]\n",
    "\n",
    "        y_true = one_hot(self.W_out.shape[1], y)\n",
    "        y_pred = self.forward(x)\n",
    "\n",
    "        error_out = y_pred - y_true\n",
    "\n",
    "        if self.use_second_hidden:\n",
    "            dW_out = np.dot(self.A2.T, error_out)\n",
    "            db_out = np.sum(error_out, axis=0)\n",
    "\n",
    "            error_hidden2 = np.dot(error_out, self.W_out.T) * dsigmoid(self.Z2)\n",
    "            dW2 = np.dot(self.A1.T, error_hidden2)\n",
    "            db2 = np.sum(error_hidden2, axis=0)\n",
    "\n",
    "            error_hidden1 = np.dot(error_hidden2, self.W2.T) * dsigmoid(self.Z1)\n",
    "            dW1 = np.dot(x.T, error_hidden1)\n",
    "            db1 = np.sum(error_hidden1, axis=0)\n",
    "\n",
    "            self.W2 -= lr * dW2\n",
    "            self.b2 -= lr * db2\n",
    "        else:\n",
    "            dW_out = np.dot(self.A1.T, error_out)\n",
    "            db_out = np.sum(error_out, axis=0)\n",
    "\n",
    "            error_hidden1 = np.dot(error_out, self.W_out.T) * dsigmoid(self.Z1)\n",
    "            dW1 = np.dot(x.T, error_hidden1)\n",
    "            db1 = np.sum(error_hidden1, axis=0)\n",
    "\n",
    "        self.W1 -= lr * dW1\n",
    "        self.b1 -= lr * db1\n",
    "        self.W_out -= lr * dW_out\n",
    "        self.b_out -= lr * db_out\n",
    "\n",
    "# --------------------- Load Dataset ---------------------\n",
    "digits = load_digits()\n",
    "X, y = digits.data, digits.target\n",
    "\n",
    "scaler = StandardScaler()\n",
    "X = scaler.fit_transform(X)\n",
    "\n",
    "X_train, X_test, y_train, y_test = train_test_split(X, y, test_size=0.2, random_state=42)\n",
    "n_features = X.shape[1]  # 64\n",
    "n_classes = len(np.unique(y))  # 10\n",
    "\n",
    "# --------------------- Hyperparameters ---------------------\n",
    "learning_rate = 0.01\n",
    "hidden_size_1 = 64\n",
    "hidden_size_2 = 32  # Set to None for 1-layer network\n",
    "epochs = 15\n",
    "\n",
    "# --------------------- Train the Model ---------------------\n",
    "model = NeuralNet(n_features, hidden_size_1, n_classes, hidden_size_2)\n",
    "\n",
    "losses, accs_train, accs_test = [], [], []\n",
    "\n",
    "for epoch in range(epochs):\n",
    "    for x, y in zip(X_train, y_train):\n",
    "        model.train(x, y, learning_rate)\n",
    "\n",
    "    loss = model.loss(X_train, y_train)\n",
    "    acc_train = model.accuracy(X_train, y_train)\n",
    "    acc_test = model.accuracy(X_test, y_test)\n",
    "\n",
    "    losses.append(loss)\n",
    "    accs_train.append(acc_train)\n",
    "    accs_test.append(acc_test)\n",
    "\n",
    "    print(f\"Epoch {epoch + 1}: Loss={loss:.4f}, Train Acc={acc_train:.3f}, Test Acc={acc_test:.3f}\")\n",
    "\n",
    "print(f\"\\n🎯 Best Test Accuracy: {max(accs_test):.3f}\")\n",
    "\n",
    "# --------------------- Plot Results ---------------------\n",
    "plt.plot(losses, label=\"Train Loss\")\n",
    "plt.plot(accs_train, label=\"Train Accuracy\")\n",
    "plt.plot(accs_test, label=\"Test Accuracy\")\n",
    "plt.xlabel(\"Epoch\")\n",
    "plt.title(\"Training Progress\")\n",
    "plt.legend()\n",
    "plt.grid(True)\n",
    "plt.show()\n"
   ]
  },
  {
   "cell_type": "code",
   "execution_count": null,
   "metadata": {},
   "outputs": [],
   "source": []
  }
 ],
 "metadata": {
  "kernelspec": {
   "display_name": "dsi_participant",
   "language": "python",
   "name": "python3"
  },
  "language_info": {
   "codemirror_mode": {
    "name": "ipython",
    "version": 3
   },
   "file_extension": ".py",
   "mimetype": "text/x-python",
   "name": "python",
   "nbconvert_exporter": "python",
   "pygments_lexer": "ipython3",
   "version": "3.9.21"
  }
 },
 "nbformat": 4,
 "nbformat_minor": 4
}
