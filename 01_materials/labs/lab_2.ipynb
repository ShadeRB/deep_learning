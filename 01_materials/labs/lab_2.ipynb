{
 "cells": [
  {
   "cell_type": "markdown",
   "metadata": {},
   "source": [
    "# Backpropagation in Multilayer Neural Networks\n",
    "\n",
    "While we will primarily be working with high-level, abstract toolkits like Keras in this course, understanding how backpropagation works is absolutely essential to using neural networks. \n",
    "\n",
    "In this exercise, we will build our own backpropagation algorithm - working through each step, to ensure that we can follow it."
   ]
  },
  {
   "cell_type": "markdown",
   "metadata": {
    "collapsed": false
   },
   "source": [
    "Just like in Lab 1, we'll be working with the MNIST dataset. We will load it and plot an example:"
   ]
  },
  {
   "cell_type": "code",
   "execution_count": 1,
   "metadata": {},
   "outputs": [],
   "source": [
    "%matplotlib inline\n",
    "import matplotlib.pyplot as plt\n",
    "import numpy as np\n",
    "from sklearn.datasets import load_digits\n",
    "\n",
    "digits = load_digits()"
   ]
  },
  {
   "cell_type": "code",
   "execution_count": 2,
   "metadata": {},
   "outputs": [
    {
     "data": {
      "image/png": "[encoded data removed]",
      "text/plain": [
       "<Figure size 300x300 with 1 Axes>"
      ]
     },
     "metadata": {},
     "output_type": "display_data"
    }
   ],
   "source": [
    "sample_index = 45\n",
    "plt.figure(figsize=(3, 3))\n",
    "plt.imshow(digits.images[sample_index], cmap=plt.cm.gray_r,\n",
    "           interpolation='nearest')\n",
    "plt.title(\"image label: %d\" % digits.target[sample_index]);"
   ]
  },
  {
   "cell_type": "markdown",
   "metadata": {},
   "source": [
    "### Preprocessing\n",
    "\n",
    "Of course, we need to split our data into training and testing sets before we use it, just the same as in Lab 1:"
   ]
  },
  {
   "cell_type": "code",
   "execution_count": 3,
   "metadata": {},
   "outputs": [],
   "source": [
    "from sklearn.model_selection import train_test_split\n",
    "\n",
    "data = np.asarray(digits.data, dtype='float32')\n",
    "target = np.asarray(digits.target, dtype='int32')\n",
    "\n",
    "X_train, X_test, y_train, y_test = train_test_split(\n",
    "    data, target, test_size=0.15, random_state=37)"
   ]
  },
  {
   "cell_type": "markdown",
   "metadata": {},
   "source": [
    "# Numpy Implementation\n",
    "\n",
    "## a) Logistic Regression\n",
    "\n",
    "In this section we will implement a logistic regression model trainable with SGD using numpy. Here are the objectives:\n",
    "\n",
    "- Implement the softmax function $\\sigma(\\mathbf{x})_i = \\frac{e^{x_i}}{\\sum_{j=1}^n e^{x_j}}$;\n",
    "- Implement the negative log likelihood function $NLL(Y_{true}, Y_{pred}) = - \\sum_{i=1}^{n}{y_{true, i} \\cdot \\log(y_{pred, i})}$;\n",
    "- Train a logistic regression model on the MNIST dataset;\n",
    "- Evaluate the model on the training and testing sets.\n",
    "\n",
    "Before we get there, let's write a function that one-hot encodes the class labels:"
   ]
  },
  {
   "cell_type": "code",
   "execution_count": 4,
   "metadata": {},
   "outputs": [],
   "source": [
    "def one_hot(n_classes, y):\n",
    "    return np.eye(n_classes)[y]"
   ]
  },
  {
   "cell_type": "code",
   "execution_count": 5,
   "metadata": {},
   "outputs": [
    {
     "data": {
      "text/plain": [
       "array([0., 0., 0., 1., 0., 0., 0., 0., 0., 0.])"
      ]
     },
     "execution_count": 5,
     "metadata": {},
     "output_type": "execute_result"
    }
   ],
   "source": [
    "one_hot(n_classes=10, y=3)"
   ]
  },
  {
   "cell_type": "code",
   "execution_count": 6,
   "metadata": {},
   "outputs": [
    {
     "data": {
      "text/plain": [
       "array([[1., 0., 0., 0., 0., 0., 0., 0., 0., 0.],\n",
       "       [0., 0., 0., 0., 1., 0., 0., 0., 0., 0.],\n",
       "       [0., 0., 0., 0., 0., 0., 0., 0., 0., 1.],\n",
       "       [0., 1., 0., 0., 0., 0., 0., 0., 0., 0.]])"
      ]
     },
     "execution_count": 6,
     "metadata": {},
     "output_type": "execute_result"
    }
   ],
   "source": [
    "one_hot(n_classes=10, y=[0, 4, 9, 1])"
   ]
  },
  {
   "cell_type": "markdown",
   "metadata": {},
   "source": [
    "### The softmax function\n",
    "\n",
    "Now we will implement the softmax function. Recall that the softmax function is defined as follows:\n",
    "\n",
    "$$\n",
    "softmax(\\mathbf{x}) = \\frac{1}{\\sum_{i=1}^{n}{e^{x_i}}}\n",
    "\\cdot\n",
    "\\begin{bmatrix}\n",
    "  e^{x_1}\\\\\\\\\n",
    "  e^{x_2}\\\\\\\\\n",
    "  \\vdots\\\\\\\\\n",
    "  e^{x_n}\n",
    "\\end{bmatrix}\n",
    "$$\n",
    "\n",
    "This is implemented for you using numpy - we want to be able to apply the softmax function to a batch of samples at once, so we will use numpy's vectorized operations to do so.\n",
    "\n",
    "Our method also handles _stability issues_ that can occur when the values in `X` are very large. We will subtract the maximum value from each row of `X` to avoid overflow in the exponentiation. This isn't part of the softmax function itself, but it's a useful trick to know about."
   ]
  },
  {
   "cell_type": "code",
   "execution_count": 7,
   "metadata": {
    "collapsed": false
   },
   "outputs": [],
   "source": [
    "def softmax(X):\n",
    "    X_max = np.max(X, axis=-1, keepdims=True)\n",
    "    exp = np.exp(X - X_max) # Subtract the max to avoid overflow in the exponentiation\n",
    "    return exp / np.sum(exp, axis=-1, keepdims=True)\n"
   ]
  },
  {
   "cell_type": "markdown",
   "metadata": {},
   "source": [
    "Let's make sure that this works one vector at a time (and check that the components sum to one):"
   ]
  },
  {
   "cell_type": "code",
   "execution_count": 8,
   "metadata": {},
   "outputs": [
    {
     "name": "stdout",
     "output_type": "stream",
     "text": [
      "[9.99662391e-01 3.35349373e-04 2.25956630e-06]\n"
     ]
    }
   ],
   "source": [
    "print(softmax([10, 2, -3]))"
   ]
  },
  {
   "cell_type": "markdown",
   "metadata": {},
   "source": [
    "When we are using our model to make predictions, we will want to be able to make predictions for multiple samples at once.\n",
    "Let's make sure that our implementation of softmax works for a batch of samples:"
   ]
  },
  {
   "cell_type": "code",
   "execution_count": 9,
   "metadata": {},
   "outputs": [
    {
     "name": "stdout",
     "output_type": "stream",
     "text": [
      "[[9.99662391e-01 3.35349373e-04 2.25956630e-06]\n",
      " [2.47262316e-03 9.97527377e-01 1.38536042e-11]]\n"
     ]
    }
   ],
   "source": [
    "X = np.array([[10, 2, -3],\n",
    "              [-1, 5, -20]])\n",
    "print(softmax(X))"
   ]
  },
  {
   "cell_type": "markdown",
   "metadata": {},
   "source": [
    "Probabilities should sum to 1:"
   ]
  },
  {
   "cell_type": "code",
   "execution_count": 10,
   "metadata": {},
   "outputs": [
    {
     "name": "stdout",
     "output_type": "stream",
     "text": [
      "1.0\n"
     ]
    }
   ],
   "source": [
    "print(np.sum(softmax([10, 2, -3])))"
   ]
  },
  {
   "cell_type": "code",
   "execution_count": 11,
   "metadata": {},
   "outputs": [
    {
     "name": "stdout",
     "output_type": "stream",
     "text": [
      "softmax of 2 vectors:\n",
      "[[9.99662391e-01 3.35349373e-04 2.25956630e-06]\n",
      " [2.47262316e-03 9.97527377e-01 1.38536042e-11]]\n"
     ]
    }
   ],
   "source": [
    "print(\"softmax of 2 vectors:\")\n",
    "X = np.array([[10, 2, -3],\n",
    "              [-1, 5, -20]])\n",
    "print(softmax(X))"
   ]
  },
  {
   "cell_type": "markdown",
   "metadata": {},
   "source": [
    "The sum of probabilities for each input vector of logits should some to 1:"
   ]
  },
  {
   "cell_type": "code",
   "execution_count": 12,
   "metadata": {},
   "outputs": [
    {
     "name": "stdout",
     "output_type": "stream",
     "text": [
      "[1. 1.]\n"
     ]
    }
   ],
   "source": [
    "print(np.sum(softmax(X), axis=1))"
   ]
  },
  {
   "cell_type": "markdown",
   "metadata": {},
   "source": [
    "Now we will implement a function that, given the true one-hot encoded class `Y_true` and some predicted probabilities `Y_pred`, returns the negative log likelihood.\n",
    "\n",
    "Recall that the negative log likelihood is defined as follows:\n",
    "\n",
    "$$\n",
    "NLL(Y_{true}, Y_{pred}) = - \\sum_{i=1}^{n}{y_{true, i} \\cdot \\log(y_{pred, i})}\n",
    "$$\n",
    "\n",
    "For example, if we have $y_{true} = [1, 0, 0]$ and $y_{pred} = [0.99, 0.01, 0]$, then the negative log likelihood is $- \\log(0.99) \\approx 0.01$."
   ]
  },
  {
   "cell_type": "code",
   "execution_count": 13,
   "metadata": {},
   "outputs": [
    {
     "name": "stdout",
     "output_type": "stream",
     "text": [
      "0.01005033585350145\n"
     ]
    }
   ],
   "source": [
    "def nll(Y_true, Y_pred):\n",
    "    Y_true = np.asarray(Y_true)\n",
    "    Y_pred = np.asarray(Y_pred)\n",
    "\n",
    "    # Ensure Y_pred doesn't have zero probabilities to avoid log(0)\n",
    "    Y_pred = np.clip(Y_pred, 1e-15, 1 - 1e-15)\n",
    "\n",
    "    # Calculate negative log likelihood\n",
    "    loss = -np.sum(Y_true * np.log(Y_pred))\n",
    "    return loss\n",
    "\n",
    "# Make sure that it works for a simple sample at a time\n",
    "print(nll([1, 0, 0], [.99, 0.01, 0]))"
   ]
  },
  {
   "cell_type": "markdown",
   "metadata": {},
   "source": [
    "We should see a very high value for this negative log likelihood, since the model is very confident that the third class is the correct one, but the true class is the first one:"
   ]
  },
  {
   "cell_type": "code",
   "execution_count": 14,
   "metadata": {},
   "outputs": [
    {
     "name": "stdout",
     "output_type": "stream",
     "text": [
      "4.605170185988091\n"
     ]
    }
   ],
   "source": [
    "print(nll([1, 0, 0], [0.01, 0.01, .98]))"
   ]
  },
  {
   "cell_type": "markdown",
   "metadata": {},
   "source": [
    "Make sure that your implementation can compute the average negative log likelihood of a group of predictions: `Y_pred` and `Y_true` can therefore be past as 2D arrays:"
   ]
  },
  {
   "cell_type": "code",
   "execution_count": 15,
   "metadata": {},
   "outputs": [
    {
     "name": "stdout",
     "output_type": "stream",
     "text": [
      "0.010050335853503449\n"
     ]
    }
   ],
   "source": [
    "# Check that the average NLL of the following 3 almost perfect\n",
    "# predictions is close to 0\n",
    "Y_true = np.array([[0, 1, 0],\n",
    "                   [1, 0, 0],\n",
    "                   [0, 0, 1]])\n",
    "\n",
    "Y_pred = np.array([[0,   1,    0],\n",
    "                   [.99, 0.01, 0],\n",
    "                   [0,   0,    1]])\n",
    "\n",
    "print(nll(Y_true, Y_pred))"
   ]
  },
  {
   "cell_type": "markdown",
   "metadata": {
    "collapsed": false
   },
   "source": [
    "Now that we have our softmax and negative log likelihood functions, we can implement a logistic regression model. \n",
    "In this section, we have built the model for you, but you will need to complete a few key parts.\n",
    "\n",
    "**YOUR TURN:**\n",
    "\n",
    "1. Implement the `forward` method of the `LogisticRegression` class. This method should take in a batch of samples `X` and return the predicted probabilities for each class. You should use the softmax function that we implemented earlier.\n",
    "2. Implement the `loss` method of the `LogisticRegression` class. This method take in the samples `X` and the true values `y` and return the average negative log likelihood of the predictions."
   ]
  },
  {
   "cell_type": "code",
   "execution_count": 16,
   "metadata": {
    "collapsed": false
   },
   "outputs": [],
   "source": [
    "import numpy as np\n",
    "\n",
    "def one_hot(num_classes, labels):\n",
    "    \"\"\"\n",
    "    Convert class labels (integers) to one-hot encoded format.\n",
    "    \"\"\"\n",
    "    one_hot_matrix = np.zeros((len(labels), num_classes))\n",
    "    one_hot_matrix[np.arange(len(labels)), labels] = 1\n",
    "    return one_hot_matrix\n",
    "\n",
    "class LogisticRegression:\n",
    "\n",
    "    def __init__(self, input_size, output_size):\n",
    "        # Initialize weights and biases\n",
    "        self.W = np.random.uniform(low=-0.1, high=0.1, size=(input_size, output_size))\n",
    "        self.b = np.random.uniform(low=-0.1, high=0.1, size=output_size)\n",
    "\n",
    "        # Store dimensions\n",
    "        self.input_size = input_size\n",
    "        self.output_size = output_size\n",
    "\n",
    "    def forward(self, X):\n",
    "        # Linear transformation + softmax\n",
    "        Z = np.dot(X, self.W) + self.b\n",
    "        exp_Z = np.exp(Z - np.max(Z, axis=1, keepdims=True))  # stability trick\n",
    "        softmax_output = exp_Z / np.sum(exp_Z, axis=1, keepdims=True)\n",
    "        return softmax_output\n",
    "\n",
    "    def predict(self, X):\n",
    "        # Predict class with highest probability\n",
    "        if len(X.shape) == 1:\n",
    "            X = X.reshape(1, -1)\n",
    "        return np.argmax(self.forward(X), axis=1)\n",
    "\n",
    "    def loss(self, X, y):\n",
    "        # Negative log-likelihood loss\n",
    "        y_pred = self.forward(X)\n",
    "        log_likelihood = -np.log(y_pred[range(len(y)), y.astype(int)])\n",
    "        return np.mean(log_likelihood)\n",
    "\n",
    "    def grad_loss(self, X, y_true, y_pred):\n",
    "        # Gradient of the loss wrt weights and biases\n",
    "        y_true_onehot = one_hot(self.output_size, y_true.astype(int))\n",
    "        grad_W = np.dot(X.T, (y_pred - y_true_onehot)) / len(X)\n",
    "        grad_b = np.sum(y_pred - y_true_onehot, axis=0) / len(X)\n",
    "        return grad_W, grad_b\n",
    "\n",
    "# Test the implementation\n",
    "model = LogisticRegression(input_size=64, output_size=10)\n",
    "try:\n",
    "    assert(model.forward(np.zeros((1, 64))).shape == (1, 10))\n",
    "    assert(model.loss(np.zeros((1, 64)), np.zeros(1)) > 0)\n",
    "except:\n",
    "    raise NotImplementedError(\"You need to correctly implement the LogisticRegression class.\")\n"
   ]
  },
  {
   "cell_type": "code",
   "execution_count": 17,
   "metadata": {
    "collapsed": false
   },
   "outputs": [],
   "source": [
    "# Build a model and test its forward inference\n",
    "n_features = X_train.shape[1]\n",
    "n_classes = len(np.unique(y_train))\n",
    "lr = LogisticRegression(n_features, n_classes)"
   ]
  },
  {
   "cell_type": "markdown",
   "metadata": {
    "collapsed": false
   },
   "source": [
    "We can evaluate the model on an example, visualizing the prediction probabilities:"
   ]
  },
  {
   "cell_type": "code",
   "execution_count": 18,
   "metadata": {
    "collapsed": false
   },
   "outputs": [],
   "source": [
    "import matplotlib.pyplot as plt\n",
    "\n",
    "def plot_prediction(model, sample_idx=0, classes=range(10)):\n",
    "    fig, (ax0, ax1) = plt.subplots(nrows=1, ncols=2, figsize=(10, 4))\n",
    "\n",
    "    # Show the image\n",
    "    ax0.imshow(X_test[sample_idx].reshape(8, 8), cmap=plt.cm.gray_r, interpolation='nearest')\n",
    "    ax0.set_title(f\"True image label: {y_test[sample_idx]}\")\n",
    "\n",
    "    # One-hot true label and predicted probabilities\n",
    "    true_onehot = one_hot(len(classes), np.array([y_test[sample_idx]]))[0]\n",
    "    pred_probs = model.forward(X_test[sample_idx:sample_idx+1])[0]\n",
    "\n",
    "    ax1.bar(classes, true_onehot, label='True', alpha=0.6)\n",
    "    ax1.bar(classes, pred_probs, label='Prediction', alpha=0.6, color=\"red\")\n",
    "    ax1.set_xticks(classes)\n",
    "    ax1.set_xlabel('Digit class')\n",
    "    ax1.set_ylabel('Probability')\n",
    "    ax1.set_title(f\"Predicted: {np.argmax(pred_probs)}\")\n",
    "    ax1.legend()\n",
    "\n",
    "    plt.tight_layout()\n",
    "    plt.show()\n",
    "\n",
    "    "
   ]
  },
  {
   "cell_type": "markdown",
   "metadata": {
    "collapsed": false
   },
   "source": [
    "Now it's time to start training! We will train for a single epoch, and then evaluate the model on the training and testing sets. Read through the following and make sure that you understand what we are doing here."
   ]
  },
  {
   "cell_type": "code",
   "execution_count": 19,
   "metadata": {
    "collapsed": false
   },
   "outputs": [
    {
     "name": "stdout",
     "output_type": "stream",
     "text": [
      "Average NLL over the last 100 samples at step 0: nan\n",
      "Average NLL over the last 100 samples at step 100: inf\n",
      "Average NLL over the last 100 samples at step 200: inf\n",
      "Average NLL over the last 100 samples at step 300: inf\n",
      "Average NLL over the last 100 samples at step 400: inf\n",
      "Average NLL over the last 100 samples at step 500: inf\n",
      "Average NLL over the last 100 samples at step 600: inf\n",
      "Average NLL over the last 100 samples at step 700: inf\n",
      "Average NLL over the last 100 samples at step 800: inf\n",
      "Average NLL over the last 100 samples at step 900: inf\n",
      "Average NLL over the last 100 samples at step 1000: inf\n",
      "Average NLL over the last 100 samples at step 1100: inf\n",
      "Average NLL over the last 100 samples at step 1200: inf\n",
      "Average NLL over the last 100 samples at step 1300: inf\n",
      "Average NLL over the last 100 samples at step 1400: inf\n",
      "Average NLL over the last 100 samples at step 1500: inf\n"
     ]
    },
    {
     "name": "stderr",
     "output_type": "stream",
     "text": [
      "c:\\Users\\ritup\\miniconda3\\envs\\dsi_participant\\lib\\site-packages\\numpy\\core\\fromnumeric.py:3464: RuntimeWarning: Mean of empty slice.\n",
      "  return _methods._mean(a, axis=axis, dtype=dtype,\n",
      "c:\\Users\\ritup\\miniconda3\\envs\\dsi_participant\\lib\\site-packages\\numpy\\core\\_methods.py:192: RuntimeWarning: invalid value encountered in scalar divide\n",
      "  ret = ret.dtype.type(ret / rcount)\n",
      "C:\\Users\\ritup\\AppData\\Local\\Temp\\ipykernel_33384\\2412594055.py:38: RuntimeWarning: divide by zero encountered in log\n",
      "  log_likelihood = -np.log(y_pred[range(len(y)), y.astype(int)])\n"
     ]
    }
   ],
   "source": [
    "lr = LogisticRegression(input_size=X_train.shape[1], output_size=10)\n",
    "\n",
    "learning_rate = 0.01\n",
    "\n",
    "for i in range(len(X_train)):\n",
    "    # Get the current sample and corresponding label\n",
    "    x = X_train[i:i+1]  # Reshape to keep the batch dimension\n",
    "    y = y_train[i:i+1]  # Reshape to keep the batch dimension\n",
    "\n",
    "    # Compute the forward pass and the gradient of the loss with respect to W and b\n",
    "    y_pred = lr.forward(x)\n",
    "    grad_W, grad_b = lr.grad_loss(x, one_hot(lr.output_size, y), y_pred)\n",
    "\n",
    "    # Update the weights and biases\n",
    "    lr.W -= learning_rate * grad_W\n",
    "    lr.b -= learning_rate * grad_b\n",
    "\n",
    "    # Print the average negative log likelihood every 100 steps\n",
    "    if i % 100 == 0:\n",
    "        avg_nll = lr.loss(X_train[max(0, i-100):i], y_train[max(0, i-100):i])\n",
    "        print(\"Average NLL over the last 100 samples at step %d: %0.f\" % (i, avg_nll))\n"
   ]
  },
  {
   "cell_type": "markdown",
   "metadata": {
    "collapsed": false
   },
   "source": [
    "Evaluate the trained model on the first example:"
   ]
  },
  {
   "cell_type": "code",
   "execution_count": 20,
   "metadata": {
    "collapsed": false
   },
   "outputs": [
    {
     "data": {
      "image/png": "[encoded data removed]",
      "text/plain": [
       "<Figure size 1000x400 with 2 Axes>"
      ]
     },
     "metadata": {},
     "output_type": "display_data"
    }
   ],
   "source": [
    "plot_prediction(lr, sample_idx=0)"
   ]
  },
  {
   "cell_type": "markdown",
   "metadata": {},
   "source": [
    "## b) Feedforward Multilayer\n",
    "\n",
    "The objective of this section is to implement the backpropagation algorithm (SGD with the chain rule) on a single layer neural network using the sigmoid activation function.\n",
    "\n",
    "Now it's your turn to\n",
    "\n",
    "- Implement the `sigmoid` and its element-wise derivative `dsigmoid` functions:\n",
    "\n",
    "$$\n",
    "sigmoid(x) = \\frac{1}{1 + e^{-x}}\n",
    "$$\n",
    "\n",
    "$$\n",
    "dsigmoid(x) = sigmoid(x) \\cdot (1 - sigmoid(x))\n",
    "$$\n",
    "\n",
    "Remember that you can use your `sigmoid` function inside your `dsigmoid` function.\n",
    "\n",
    "Just like with our softmax function, we also want to make sure that we don't run into stability issues with our sigmoid function. We will use `np.clip` to ensure that the input to the sigmoid function is not too large or too small."
   ]
  },
  {
   "cell_type": "code",
   "execution_count": 21,
   "metadata": {},
   "outputs": [
    {
     "data": {
      "image/png": "[encoded data removed]",
      "text/plain": [
       "<Figure size 640x480 with 1 Axes>"
      ]
     },
     "metadata": {},
     "output_type": "display_data"
    }
   ],
   "source": [
    "import numpy as np\n",
    "import matplotlib.pyplot as plt\n",
    "\n",
    "def sigmoid(X):\n",
    "    # Clip X to prevent overflow/underflow in exp()\n",
    "    X = np.clip(X, -500, 500)\n",
    "    return 1 / (1 + np.exp(-X))\n",
    "\n",
    "def dsigmoid(X):\n",
    "    s = sigmoid(X)\n",
    "    return s * (1 - s)\n",
    "\n",
    "# Generate input range\n",
    "x = np.linspace(-5, 5, 100)\n",
    "\n",
    "# Plot sigmoid and its derivative\n",
    "plt.plot(x, sigmoid(x), label='sigmoid')\n",
    "plt.plot(x, dsigmoid(x), label='dsigmoid', linestyle='--')\n",
    "plt.title(\"Sigmoid and its Derivative\")\n",
    "plt.xlabel(\"Input\")\n",
    "plt.ylabel(\"Output\")\n",
    "plt.legend(loc='best')\n",
    "plt.grid(True)\n",
    "plt.show()\n"
   ]
  },
  {
   "cell_type": "markdown",
   "metadata": {},
   "source": [
    "Now it's your turn to complete the neural network code, so that we can train it on the MNIST dataset.\n",
    "\n",
    "Some parts have been completed for you already. Often, you'll be able to refer back to the code from the previous section to help you complete the code in this section."
   ]
  },
  {
   "cell_type": "code",
   "execution_count": 22,
   "metadata": {},
   "outputs": [],
   "source": [
    "import numpy as np\n",
    "\n",
    "def sigmoid(X):\n",
    "    X = np.clip(X, -500, 500)\n",
    "    return 1 / (1 + np.exp(-X))\n",
    "\n",
    "def dsigmoid(X):\n",
    "    s = sigmoid(X)\n",
    "    return s * (1 - s)\n",
    "\n",
    "def one_hot(num_classes, labels):\n",
    "    one_hot_matrix = np.zeros((len(labels), num_classes))\n",
    "    one_hot_matrix[np.arange(len(labels)), labels] = 1\n",
    "    return one_hot_matrix\n",
    "\n",
    "class NeuralNet():\n",
    "    \"\"\"MLP with 1 hidden layer using sigmoid activations\"\"\"\n",
    "\n",
    "    def __init__(self, input_size, hidden_size, output_size):\n",
    "        self.W_h = np.random.uniform(size=(input_size, hidden_size), low=-0.1, high=0.1)\n",
    "        self.b_h = np.random.uniform(size=hidden_size, low=-0.1, high=0.1)\n",
    "        self.W_o = np.random.uniform(size=(hidden_size, output_size), low=-0.1, high=0.1)\n",
    "        self.b_o = np.random.uniform(size=output_size, low=-0.1, high=0.1)\n",
    "        self.input_size = input_size\n",
    "        self.hidden_size = hidden_size\n",
    "        self.output_size = output_size\n",
    "\n",
    "    def forward_hidden(self, X):\n",
    "        self.Z_h = np.dot(X, self.W_h) + self.b_h\n",
    "        return sigmoid(self.Z_h)\n",
    "\n",
    "    def forward_output(self, H):\n",
    "        self.Z_o = np.dot(H, self.W_o) + self.b_o\n",
    "        return sigmoid(self.Z_o)\n",
    "\n",
    "    def forward(self, X):\n",
    "        H = self.forward_hidden(X)\n",
    "        Y = self.forward_output(H)\n",
    "        return Y\n",
    "\n",
    "    def loss(self, X, y):\n",
    "        y = y.astype(int)\n",
    "        y_onehot = one_hot(self.output_size, y)\n",
    "        y_pred = self.forward(X)\n",
    "        # Binary cross-entropy loss\n",
    "        epsilon = 1e-12\n",
    "        y_pred = np.clip(y_pred, epsilon, 1 - epsilon)\n",
    "        return -np.mean(np.sum(y_onehot * np.log(y_pred), axis=1))\n",
    "\n",
    "    def grad_loss(self, X, y_true):\n",
    "        y_true = one_hot(self.output_size, y_true)\n",
    "        y_pred = self.forward(X)\n",
    "\n",
    "        error_o = y_pred - y_true\n",
    "        grad_W_o = np.dot(self.Z_h.T, error_o)\n",
    "        grad_b_o = np.sum(error_o, axis=0)\n",
    "\n",
    "        error_h = np.dot(error_o, self.W_o.T) * dsigmoid(self.Z_h)\n",
    "        grad_W_h = np.dot(X.T, error_h)\n",
    "        grad_b_h = np.sum(error_h, axis=0)\n",
    "\n",
    "        return {\"W_h\": grad_W_h, \"b_h\": grad_b_h, \"W_o\": grad_W_o, \"b_o\": grad_b_o}\n",
    "\n",
    "    def train(self, x, y, learning_rate):\n",
    "        x = x[np.newaxis, :]  # Ensure 2D\n",
    "        grads = self.grad_loss(x, y)\n",
    "\n",
    "        self.W_h -= learning_rate * grads[\"W_h\"]\n",
    "        self.b_h -= learning_rate * grads[\"b_h\"]\n",
    "        self.W_o -= learning_rate * grads[\"W_o\"]\n",
    "        self.b_o -= learning_rate * grads[\"b_o\"]\n",
    "\n",
    "    def predict(self, X):\n",
    "        if len(X.shape) == 1:\n",
    "            return np.argmax(self.forward(X[np.newaxis, :]))\n",
    "        return np.argmax(self.forward(X), axis=1)\n",
    "\n",
    "    def accuracy(self, X, y):\n",
    "        return np.mean(self.predict(X) == y)\n"
   ]
  },
  {
   "cell_type": "markdown",
   "metadata": {
    "collapsed": false
   },
   "source": [
    "Once the code is written, we can test our model on a single sample:"
   ]
  },
  {
   "cell_type": "code",
   "execution_count": 23,
   "metadata": {},
   "outputs": [
    {
     "name": "stdout",
     "output_type": "stream",
     "text": [
      "True label: 2\n",
      "Predicted label: [6]\n",
      "Output probabilities:\n",
      "[0.    0.    0.    0.    0.001 0.002 0.996 0.    0.    0.001]\n"
     ]
    }
   ],
   "source": [
    "sample_idx = 0\n",
    "sample_input = X_test[sample_idx]\n",
    "true_label = y_test[sample_idx]\n",
    "\n",
    "predicted_label = model.predict(sample_input)\n",
    "output_probs = model.forward(sample_input[np.newaxis, :])[0]\n",
    "\n",
    "print(f\"True label: {true_label}\")\n",
    "print(f\"Predicted label: {predicted_label}\")\n",
    "print(\"Output probabilities:\")\n",
    "print(np.round(output_probs, 3))\n"
   ]
  },
  {
   "cell_type": "markdown",
   "metadata": {},
   "source": []
  },
  {
   "cell_type": "code",
   "execution_count": 24,
   "metadata": {},
   "outputs": [
    {
     "name": "stdout",
     "output_type": "stream",
     "text": [
      "Step 0, Loss: 24.9013\n",
      "Step 100, Loss: 3.7233\n",
      "Step 200, Loss: 3.5209\n",
      "Step 300, Loss: 3.2246\n",
      "Step 400, Loss: 2.3737\n",
      "Step 500, Loss: 3.5090\n",
      "Step 600, Loss: 3.2325\n",
      "Step 700, Loss: 3.1950\n",
      "Step 800, Loss: 1.2913\n",
      "Step 900, Loss: 1.7339\n",
      "Step 1000, Loss: 4.3549\n",
      "Step 1100, Loss: 2.7244\n",
      "Step 1200, Loss: 1.8020\n",
      "Step 1300, Loss: 6.0351\n",
      "Step 1400, Loss: 1.7159\n",
      "Step 1500, Loss: 5.1216\n",
      "Train Accuracy: 0.8651\n",
      "Test Accuracy: 0.8370\n"
     ]
    }
   ],
   "source": [
    "# Initialize model\n",
    "import numpy as np\n",
    "\n",
    "# One-hot encoding helper\n",
    "def one_hot(num_classes, labels):\n",
    "    one_hot_matrix = np.zeros((len(labels), num_classes))\n",
    "    one_hot_matrix[np.arange(len(labels)), labels] = 1\n",
    "    return one_hot_matrix\n",
    "\n",
    "# Logistic Regression Model\n",
    "class LogisticRegression:\n",
    "    def __init__(self, input_size, output_size):\n",
    "        self.W = np.random.uniform(low=-0.1, high=0.1, size=(input_size, output_size))\n",
    "        self.b = np.random.uniform(low=-0.1, high=0.1, size=output_size)\n",
    "        self.input_size = input_size\n",
    "        self.output_size = output_size\n",
    "\n",
    "    def forward(self, X):\n",
    "        Z = np.dot(X, self.W) + self.b\n",
    "        exp_Z = np.exp(Z - np.max(Z, axis=1, keepdims=True))  # stability\n",
    "        return exp_Z / np.sum(exp_Z, axis=1, keepdims=True)\n",
    "\n",
    "    def predict(self, X):\n",
    "        if len(X.shape) == 1:\n",
    "            X = X.reshape(1, -1)\n",
    "        return np.argmax(self.forward(X), axis=1)\n",
    "\n",
    "    def loss(self, X, y):\n",
    "        y_pred = self.forward(X)\n",
    "        log_likelihood = -np.log(y_pred[np.arange(len(y)), y])\n",
    "        return np.mean(log_likelihood)\n",
    "\n",
    "    def grad_loss(self, X, y, y_pred):\n",
    "        y_true_onehot = one_hot(self.output_size, y)\n",
    "        grad_W = np.dot(X.T, (y_pred - y_true_onehot)) / len(X)\n",
    "        grad_b = np.sum(y_pred - y_true_onehot, axis=0) / len(X)\n",
    "        return grad_W, grad_b\n",
    "\n",
    "    def accuracy(self, X, y):\n",
    "        predictions = self.predict(X)\n",
    "        return np.mean(predictions == y)\n",
    "\n",
    "# ----------- TRAINING -----------\n",
    "\n",
    "# Replace these with your actual dataset if not already loaded\n",
    "# from keras.datasets import digits/fashion_mnist/etc.\n",
    "# Ensure X_train, y_train, X_test, y_test are loaded and preprocessed\n",
    "\n",
    "# Example initialization\n",
    "model = LogisticRegression(input_size=X_train.shape[1], output_size=10)\n",
    "learning_rate = 0.01\n",
    "\n",
    "# Training loop\n",
    "for i in range(len(X_train)):\n",
    "    x = X_train[i:i+1]\n",
    "    y = y_train[i:i+1]\n",
    "    y_pred = model.forward(x)\n",
    "    grad_W, grad_b = model.grad_loss(x, y, y_pred)\n",
    "    model.W -= learning_rate * grad_W\n",
    "    model.b -= learning_rate * grad_b\n",
    "\n",
    "    if i % 100 == 0:\n",
    "        loss_val = model.loss(X_train, y_train)\n",
    "        print(f\"Step {i}, Loss: {loss_val:.4f}\")\n",
    "\n",
    "# Evaluation\n",
    "train_acc = model.accuracy(X_train, y_train)\n",
    "test_acc = model.accuracy(X_test, y_test)\n",
    "\n",
    "print(f\"Train Accuracy: {train_acc:.4f}\")\n",
    "print(f\"Test Accuracy: {test_acc:.4f}\")\n"
   ]
  },
  {
   "cell_type": "code",
   "execution_count": 25,
   "metadata": {},
   "outputs": [
    {
     "name": "stdout",
     "output_type": "stream",
     "text": [
      "Step 0, Avg NLL: 0.0000\n",
      "Step 100, Avg NLL: 3.9567\n",
      "Step 200, Avg NLL: 3.2596\n",
      "Step 300, Avg NLL: 2.0030\n",
      "Step 400, Avg NLL: 1.5196\n",
      "Step 500, Avg NLL: 1.0839\n",
      "Step 600, Avg NLL: 1.2907\n",
      "Step 700, Avg NLL: 0.7406\n",
      "Step 800, Avg NLL: 0.5214\n",
      "Step 900, Avg NLL: 0.4316\n",
      "Step 1000, Avg NLL: 3.4121\n",
      "Step 1100, Avg NLL: 2.0582\n",
      "Step 1200, Avg NLL: 3.4190\n",
      "Step 1300, Avg NLL: 3.2014\n",
      "Step 1400, Avg NLL: 0.9402\n",
      "Step 1500, Avg NLL: 0.3904\n",
      "Train Accuracy: 0.7662\n",
      "Test Accuracy: 0.7407\n"
     ]
    }
   ],
   "source": [
    "import numpy as np\n",
    "\n",
    "def one_hot(num_classes, labels):\n",
    "    one_hot_matrix = np.zeros((len(labels), num_classes))\n",
    "    one_hot_matrix[np.arange(len(labels)), labels] = 1\n",
    "    return one_hot_matrix\n",
    "\n",
    "class LogisticRegression:\n",
    "    def __init__(self, input_size, output_size):\n",
    "        self.W = np.random.uniform(low=-0.1, high=0.1, size=(input_size, output_size))\n",
    "        self.b = np.random.uniform(low=-0.1, high=0.1, size=output_size)\n",
    "        self.input_size = input_size\n",
    "        self.output_size = output_size\n",
    "\n",
    "    def forward(self, X):\n",
    "        Z = np.dot(X, self.W) + self.b\n",
    "        exp_Z = np.exp(Z - np.max(Z, axis=1, keepdims=True))  # numerical stability\n",
    "        return exp_Z / np.sum(exp_Z, axis=1, keepdims=True)\n",
    "\n",
    "    def predict(self, X):\n",
    "        if len(X.shape) == 1:\n",
    "            X = X.reshape(1, -1)\n",
    "        return np.argmax(self.forward(X), axis=1)\n",
    "\n",
    "    def loss(self, X, y):\n",
    "        y_pred = self.forward(X)\n",
    "        log_likelihood = -np.log(y_pred[range(len(y)), y.astype(int)])\n",
    "        return np.mean(log_likelihood)\n",
    "\n",
    "    def grad_loss(self, X, y_true, y_pred):\n",
    "        y_true_onehot = one_hot(self.output_size, y_true.astype(int))\n",
    "        grad_W = np.dot(X.T, (y_pred - y_true_onehot)) / len(X)\n",
    "        grad_b = np.sum(y_pred - y_true_onehot, axis=0) / len(X)\n",
    "        return grad_W, grad_b\n",
    "\n",
    "    def accuracy(self, X, y):\n",
    "        y_pred = self.predict(X)\n",
    "        return np.mean(y_pred == y)\n",
    "\n",
    "# Example training loop\n",
    "lr = LogisticRegression(input_size=X_train.shape[1], output_size=10)\n",
    "learning_rate = 0.01\n",
    "\n",
    "for i in range(len(X_train)):\n",
    "    x = X_train[i:i+1]\n",
    "    y = y_train[i:i+1]\n",
    "    y_pred = lr.forward(x)\n",
    "    grad_W, grad_b = lr.grad_loss(x, y, y_pred)\n",
    "    lr.W -= learning_rate * grad_W\n",
    "    lr.b -= learning_rate * grad_b\n",
    "\n",
    "    if i % 100 == 0:\n",
    "        avg_nll = lr.loss(X_train[max(0, i-100):i+1], y_train[max(0, i-100):i+1])\n",
    "        print(f\"Step {i}, Avg NLL: {avg_nll:.4f}\")\n",
    "\n",
    "# Evaluate model accuracy\n",
    "train_acc = lr.accuracy(X_train, y_train)\n",
    "test_acc = lr.accuracy(X_test, y_test)\n",
    "print(f\"Train Accuracy: {train_acc:.4f}\")\n",
    "print(f\"Test Accuracy: {test_acc:.4f}\")\n"
   ]
  },
  {
   "cell_type": "code",
   "execution_count": 26,
   "metadata": {},
   "outputs": [
    {
     "data": {
      "image/png": "[encoded data removed]",
      "text/plain": [
       "<Figure size 1000x400 with 2 Axes>"
      ]
     },
     "metadata": {},
     "output_type": "display_data"
    }
   ],
   "source": [
    "plot_prediction(model, sample_idx=5)"
   ]
  },
  {
   "cell_type": "markdown",
   "metadata": {
    "collapsed": false
   },
   "source": [
    "And now it's time to train!"
   ]
  },
  {
   "cell_type": "code",
   "execution_count": 27,
   "metadata": {},
   "outputs": [],
   "source": [
    "def grad_loss(self, X, y_true):\n",
    "    # Ensure y_true is an array of shape (1,) if it's a single label\n",
    "    if np.isscalar(y_true):\n",
    "        y_true = np.array([y_true])\n",
    "    \n",
    "    y_true = one_hot(self.output_size, y_true)\n",
    "    y_pred = self.forward(X)\n",
    "\n",
    "    error_o = y_pred - y_true\n",
    "    grad_W_o = np.dot(self.Z_h.T, error_o)\n",
    "    grad_b_o = np.sum(error_o, axis=0)\n",
    "\n",
    "    error_h = np.dot(error_o, self.W_o.T) * dsigmoid(self.Z_h)\n",
    "    grad_W_h = np.dot(X.T, error_h)\n",
    "    grad_b_h = np.sum(error_h, axis=0)\n",
    "\n",
    "    return {\"W_h\": grad_W_h, \"b_h\": grad_b_h, \"W_o\": grad_W_o, \"b_o\": grad_b_o}\n"
   ]
  },
  {
   "cell_type": "code",
   "execution_count": 29,
   "metadata": {},
   "outputs": [
    {
     "name": "stderr",
     "output_type": "stream",
     "text": [
      "c:\\Users\\ritup\\miniconda3\\envs\\dsi_participant\\lib\\site-packages\\keras\\src\\layers\\reshaping\\flatten.py:37: UserWarning: Do not pass an `input_shape`/`input_dim` argument to a layer. When using Sequential models, prefer using an `Input(shape)` object as the first layer in the model instead.\n",
      "  super().__init__(**kwargs)\n"
     ]
    },
    {
     "name": "stdout",
     "output_type": "stream",
     "text": [
      "Epoch 1/10\n",
      "\u001b[1m1500/1500\u001b[0m \u001b[32m━━━━━━━━━━━━━━━━━━━━\u001b[0m\u001b[37m\u001b[0m \u001b[1m7s\u001b[0m 4ms/step - accuracy: 0.7687 - loss: 0.6579 - val_accuracy: 0.8585 - val_loss: 0.4005\n",
      "Epoch 2/10\n",
      "\u001b[1m1500/1500\u001b[0m \u001b[32m━━━━━━━━━━━━━━━━━━━━\u001b[0m\u001b[37m\u001b[0m \u001b[1m5s\u001b[0m 3ms/step - accuracy: 0.8581 - loss: 0.3942 - val_accuracy: 0.8532 - val_loss: 0.3953\n",
      "Epoch 3/10\n",
      "\u001b[1m1500/1500\u001b[0m \u001b[32m━━━━━━━━━━━━━━━━━━━━\u001b[0m\u001b[37m\u001b[0m \u001b[1m5s\u001b[0m 3ms/step - accuracy: 0.8746 - loss: 0.3451 - val_accuracy: 0.8720 - val_loss: 0.3512\n",
      "Epoch 4/10\n",
      "\u001b[1m1500/1500\u001b[0m \u001b[32m━━━━━━━━━━━━━━━━━━━━\u001b[0m\u001b[37m\u001b[0m \u001b[1m5s\u001b[0m 3ms/step - accuracy: 0.8810 - loss: 0.3185 - val_accuracy: 0.8750 - val_loss: 0.3389\n",
      "Epoch 5/10\n",
      "\u001b[1m1500/1500\u001b[0m \u001b[32m━━━━━━━━━━━━━━━━━━━━\u001b[0m\u001b[37m\u001b[0m \u001b[1m6s\u001b[0m 4ms/step - accuracy: 0.8877 - loss: 0.3008 - val_accuracy: 0.8798 - val_loss: 0.3390\n",
      "Epoch 6/10\n",
      "\u001b[1m1500/1500\u001b[0m \u001b[32m━━━━━━━━━━━━━━━━━━━━\u001b[0m\u001b[37m\u001b[0m \u001b[1m8s\u001b[0m 5ms/step - accuracy: 0.8949 - loss: 0.2867 - val_accuracy: 0.8783 - val_loss: 0.3374\n",
      "Epoch 7/10\n",
      "\u001b[1m1500/1500\u001b[0m \u001b[32m━━━━━━━━━━━━━━━━━━━━\u001b[0m\u001b[37m\u001b[0m \u001b[1m7s\u001b[0m 4ms/step - accuracy: 0.9003 - loss: 0.2698 - val_accuracy: 0.8852 - val_loss: 0.3190\n",
      "Epoch 8/10\n",
      "\u001b[1m1500/1500\u001b[0m \u001b[32m━━━━━━━━━━━━━━━━━━━━\u001b[0m\u001b[37m\u001b[0m \u001b[1m6s\u001b[0m 4ms/step - accuracy: 0.9044 - loss: 0.2592 - val_accuracy: 0.8834 - val_loss: 0.3347\n",
      "Epoch 9/10\n",
      "\u001b[1m1500/1500\u001b[0m \u001b[32m━━━━━━━━━━━━━━━━━━━━\u001b[0m\u001b[37m\u001b[0m \u001b[1m6s\u001b[0m 4ms/step - accuracy: 0.9081 - loss: 0.2485 - val_accuracy: 0.8778 - val_loss: 0.3426\n",
      "Epoch 10/10\n",
      "\u001b[1m1500/1500\u001b[0m \u001b[32m━━━━━━━━━━━━━━━━━━━━\u001b[0m\u001b[37m\u001b[0m \u001b[1m6s\u001b[0m 4ms/step - accuracy: 0.9128 - loss: 0.2359 - val_accuracy: 0.8855 - val_loss: 0.3217\n"
     ]
    },
    {
     "data": {
      "image/png": "[encoded data removed]",
      "text/plain": [
       "<Figure size 640x480 with 1 Axes>"
      ]
     },
     "metadata": {},
     "output_type": "display_data"
    },
    {
     "name": "stdout",
     "output_type": "stream",
     "text": [
      "Test Accuracy: 0.8741\n"
     ]
    }
   ],
   "source": [
    "# 1. Import Libraries\n",
    "import numpy as np\n",
    "import matplotlib.pyplot as plt\n",
    "from tensorflow.keras.datasets import fashion_mnist\n",
    "from tensorflow.keras.models import Sequential\n",
    "from tensorflow.keras.layers import Dense, Flatten\n",
    "from tensorflow.keras.utils import to_categorical\n",
    "\n",
    "# 2. Load and Preprocess Data\n",
    "(X_train, y_train), (X_test, y_test) = fashion_mnist.load_data()\n",
    "\n",
    "# Normalize pixel values\n",
    "X_train = X_train / 255.0\n",
    "X_test = X_test / 255.0\n",
    "\n",
    "# One-hot encode the labels\n",
    "y_train = to_categorical(y_train, num_classes=10)\n",
    "y_test = to_categorical(y_test, num_classes=10)\n",
    "\n",
    "# 3. Build the Model\n",
    "model = Sequential([\n",
    "    Flatten(input_shape=(28, 28)),\n",
    "    Dense(128, activation='relu'),\n",
    "    Dense(10, activation='softmax')\n",
    "])\n",
    "\n",
    "# 4. Compile the Model\n",
    "model.compile(optimizer='adam',\n",
    "              loss='categorical_crossentropy',\n",
    "              metrics=['accuracy'])\n",
    "\n",
    "# 5. Train the Model\n",
    "history = model.fit(X_train, y_train,\n",
    "                    epochs=10,\n",
    "                    batch_size=32,\n",
    "                    validation_split=0.2,\n",
    "                    verbose=1)\n",
    "\n",
    "# 6. Plot Training Loss\n",
    "plt.plot(history.history['loss'])\n",
    "plt.title(\"Training Loss\")\n",
    "plt.xlabel(\"Epoch\")\n",
    "plt.ylabel(\"Loss\")\n",
    "plt.grid(True)\n",
    "plt.show()\n",
    "\n",
    "# 7. Evaluate the Model\n",
    "test_loss, test_accuracy = model.evaluate(X_test, y_test, verbose=0)\n",
    "print(f\"Test Accuracy: {test_accuracy:.4f}\")\n"
   ]
  },
  {
   "cell_type": "code",
   "execution_count": null,
   "metadata": {},
   "outputs": [
    {
     "data": {
      "image/png": "[encoded data removed]",
      "text/plain": [
       "<Figure size 640x480 with 1 Axes>"
      ]
     },
     "metadata": {},
     "output_type": "display_data"
    }
   ],
   "source": [
    "plt.plot(accuracies, label='train')\n",
    "plt.plot(accuracies_test, label='test')\n",
    "plt.ylim(0, 1.1)\n",
    "plt.ylabel(\"accuracy\")\n",
    "plt.legend(loc='best');"
   ]
  },
  {
   "cell_type": "code",
   "execution_count": null,
   "metadata": {},
   "outputs": [
    {
     "data": {
      "image/png": "[encoded data removed]",
      "text/plain": [
       "<Figure size 1000x400 with 2 Axes>"
      ]
     },
     "metadata": {},
     "output_type": "display_data"
    }
   ],
   "source": [
    "plot_prediction(model, sample_idx=4)"
   ]
  },
  {
   "cell_type": "markdown",
   "metadata": {},
   "source": [
    "## c) Exercises\n",
    "\n",
    "### Look at worst prediction errors\n",
    "\n",
    "- Use numpy to find test samples for which the model made the worst predictions,\n",
    "- Use the `plot_prediction` to look at the model predictions on those,\n",
    "- Would you have done any better?"
   ]
  },
  {
   "cell_type": "code",
   "execution_count": null,
   "metadata": {},
   "outputs": [
    {
     "name": "stdout",
     "output_type": "stream",
     "text": [
      "Epoch 1/5\n"
     ]
    },
    {
     "name": "stderr",
     "output_type": "stream",
     "text": [
      "c:\\Users\\ritup\\miniconda3\\envs\\dsi_participant\\lib\\site-packages\\keras\\src\\layers\\convolutional\\base_conv.py:107: UserWarning: Do not pass an `input_shape`/`input_dim` argument to a layer. When using Sequential models, prefer using an `Input(shape)` object as the first layer in the model instead.\n",
      "  super().__init__(activity_regularizer=activity_regularizer, **kwargs)\n"
     ]
    },
    {
     "name": "stdout",
     "output_type": "stream",
     "text": [
      "\u001b[1m1500/1500\u001b[0m \u001b[32m━━━━━━━━━━━━━━━━━━━━\u001b[0m\u001b[37m\u001b[0m \u001b[1m14s\u001b[0m 9ms/step - accuracy: 0.7887 - loss: 0.5994 - val_accuracy: 0.8838 - val_loss: 0.3339\n",
      "Epoch 2/5\n",
      "\u001b[1m1500/1500\u001b[0m \u001b[32m━━━━━━━━━━━━━━━━━━━━\u001b[0m\u001b[37m\u001b[0m \u001b[1m14s\u001b[0m 9ms/step - accuracy: 0.8837 - loss: 0.3262 - val_accuracy: 0.8894 - val_loss: 0.3122\n",
      "Epoch 3/5\n",
      "\u001b[1m1500/1500\u001b[0m \u001b[32m━━━━━━━━━━━━━━━━━━━━\u001b[0m\u001b[37m\u001b[0m \u001b[1m17s\u001b[0m 11ms/step - accuracy: 0.8997 - loss: 0.2855 - val_accuracy: 0.8979 - val_loss: 0.2903\n",
      "Epoch 4/5\n",
      "\u001b[1m1500/1500\u001b[0m \u001b[32m━━━━━━━━━━━━━━━━━━━━\u001b[0m\u001b[37m\u001b[0m \u001b[1m19s\u001b[0m 12ms/step - accuracy: 0.9027 - loss: 0.2695 - val_accuracy: 0.8963 - val_loss: 0.2846\n",
      "Epoch 5/5\n",
      "\u001b[1m1500/1500\u001b[0m \u001b[32m━━━━━━━━━━━━━━━━━━━━\u001b[0m\u001b[37m\u001b[0m \u001b[1m15s\u001b[0m 10ms/step - accuracy: 0.9085 - loss: 0.2547 - val_accuracy: 0.8956 - val_loss: 0.2839\n",
      "\u001b[1m313/313\u001b[0m \u001b[32m━━━━━━━━━━━━━━━━━━━━\u001b[0m\u001b[37m\u001b[0m \u001b[1m1s\u001b[0m 3ms/step\n"
     ]
    },
    {
     "data": {
      "image/png": "[encoded data removed]",
      "text/plain": [
       "<Figure size 800x800 with 9 Axes>"
      ]
     },
     "metadata": {},
     "output_type": "display_data"
    }
   ],
   "source": [
    "import numpy as np\n",
    "import matplotlib.pyplot as plt\n",
    "from tensorflow.keras.datasets import fashion_mnist\n",
    "from tensorflow.keras.models import Sequential\n",
    "from tensorflow.keras.layers import Conv2D, MaxPooling2D, Dropout, Flatten, Dense\n",
    "from tensorflow.keras.utils import to_categorical\n",
    "\n",
    "# Step 1: Load and preprocess data\n",
    "(X_train, y_train), (X_test, y_test) = fashion_mnist.load_data()\n",
    "X_train = X_train.reshape(-1, 28, 28, 1).astype('float32') / 255.\n",
    "X_test = X_test.reshape(-1, 28, 28, 1).astype('float32') / 255.\n",
    "y_train = to_categorical(y_train, 10)\n",
    "y_test = to_categorical(y_test, 10)\n",
    "\n",
    "# Step 2: Define and train model\n",
    "final_model = Sequential()\n",
    "final_model.add(Conv2D(64, kernel_size=(3, 3), activation='relu', input_shape=(28, 28, 1)))\n",
    "final_model.add(MaxPooling2D(pool_size=(2, 2)))\n",
    "final_model.add(Dropout(0.3))\n",
    "final_model.add(Flatten())\n",
    "final_model.add(Dense(10, activation='softmax'))\n",
    "\n",
    "final_model.compile(optimizer='adam', loss='categorical_crossentropy', metrics=['accuracy'])\n",
    "final_model.fit(X_train, y_train, epochs=5, batch_size=32, validation_split=0.2, verbose=1)\n",
    "\n",
    "# Step 3: Make predictions\n",
    "predictions = final_model.predict(X_test)\n",
    "predicted_classes = np.argmax(predictions, axis=1)\n",
    "true_classes = np.argmax(y_test, axis=1)\n",
    "confidence_scores = np.max(predictions, axis=1)\n",
    "\n",
    "# Step 4: Find worst predictions\n",
    "incorrect_mask = predicted_classes != true_classes\n",
    "incorrect_indices = np.where(incorrect_mask)[0]\n",
    "incorrect_confidences = confidence_scores[incorrect_indices]\n",
    "sorted_idx = incorrect_indices[np.argsort(-incorrect_confidences)]\n",
    "worst_indices = sorted_idx[:9]\n",
    "\n",
    "# Step 5: Visualize worst predictions\n",
    "fig, axes = plt.subplots(3, 3, figsize=(8, 8))\n",
    "for i, ax in enumerate(axes.flat):\n",
    "    idx = worst_indices[i]\n",
    "    ax.imshow(X_test[idx].reshape(28, 28), cmap='gray')\n",
    "    ax.set_title(f\"Pred: {predicted_classes[idx]}, True: {true_classes[idx]}\")\n",
    "    ax.axis('off')\n",
    "plt.tight_layout()\n",
    "plt.show()\n",
    "\n"
   ]
  },
  {
   "cell_type": "markdown",
   "metadata": {},
   "source": [
    "### Hyper parameters settings\n",
    "\n",
    "- Experiment with different hyperparameters:\n",
    "  - learning rate,\n",
    "  - size of hidden layer,\n",
    "  - implement the support for a second hidden layer.\n",
    "  - What is the best test accuracy you can get?"
   ]
  },
  {
   "cell_type": "code",
   "execution_count": null,
   "metadata": {
    "collapsed": false
   },
   "outputs": [
    {
     "name": "stdout",
     "output_type": "stream",
     "text": [
      "Epoch 1: Loss=2.3186, Train Acc=0.101, Test Acc=0.092\n",
      "Epoch 2: Loss=2.3061, Train Acc=0.101, Test Acc=0.092\n",
      "Epoch 3: Loss=2.2814, Train Acc=0.104, Test Acc=0.094\n",
      "Epoch 4: Loss=2.2020, Train Acc=0.246, Test Acc=0.267\n",
      "Epoch 5: Loss=1.9035, Train Acc=0.372, Test Acc=0.367\n",
      "Epoch 6: Loss=1.4241, Train Acc=0.633, Test Acc=0.625\n",
      "Epoch 7: Loss=1.1184, Train Acc=0.711, Test Acc=0.694\n",
      "Epoch 8: Loss=0.9532, Train Acc=0.766, Test Acc=0.758\n",
      "Epoch 9: Loss=0.8374, Train Acc=0.816, Test Acc=0.819\n",
      "Epoch 10: Loss=0.7327, Train Acc=0.852, Test Acc=0.861\n",
      "Epoch 11: Loss=0.6316, Train Acc=0.871, Test Acc=0.878\n",
      "Epoch 12: Loss=0.5468, Train Acc=0.891, Test Acc=0.881\n",
      "Epoch 13: Loss=0.4803, Train Acc=0.911, Test Acc=0.900\n",
      "Epoch 14: Loss=0.4249, Train Acc=0.919, Test Acc=0.908\n",
      "Epoch 15: Loss=0.3756, Train Acc=0.931, Test Acc=0.917\n",
      "\n",
      "🎯 Best Test Accuracy: 0.917\n"
     ]
    },
    {
     "data": {
      "image/png": "[encoded data removed]",
      "text/plain": [
       "<Figure size 640x480 with 1 Axes>"
      ]
     },
     "metadata": {},
     "output_type": "display_data"
    }
   ],
   "source": [
    "import numpy as np\n",
    "import matplotlib.pyplot as plt\n",
    "from sklearn.datasets import load_digits\n",
    "from sklearn.model_selection import train_test_split\n",
    "from sklearn.preprocessing import StandardScaler\n",
    "\n",
    "# --------------------- Helper Functions ---------------------\n",
    "def sigmoid(X):\n",
    "    X = np.clip(X, -500, 500)\n",
    "    return 1 / (1 + np.exp(-X))\n",
    "\n",
    "def dsigmoid(X):\n",
    "    s = sigmoid(X)\n",
    "    return s * (1 - s)\n",
    "\n",
    "def one_hot(num_classes, labels):\n",
    "    one_hot_matrix = np.zeros((len(labels), num_classes))\n",
    "    one_hot_matrix[np.arange(len(labels)), labels] = 1\n",
    "    return one_hot_matrix\n",
    "\n",
    "# --------------------- Neural Network ---------------------\n",
    "class NeuralNet:\n",
    "    def __init__(self, input_size, hidden_size_1, output_size, hidden_size_2=None):\n",
    "        self.use_second_hidden = hidden_size_2 is not None\n",
    "\n",
    "        self.W1 = np.random.uniform(-0.1, 0.1, size=(input_size, hidden_size_1))\n",
    "        self.b1 = np.random.uniform(-0.1, 0.1, size=hidden_size_1)\n",
    "\n",
    "        if self.use_second_hidden:\n",
    "            self.W2 = np.random.uniform(-0.1, 0.1, size=(hidden_size_1, hidden_size_2))\n",
    "            self.b2 = np.random.uniform(-0.1, 0.1, size=hidden_size_2)\n",
    "            self.W_out = np.random.uniform(-0.1, 0.1, size=(hidden_size_2, output_size))\n",
    "        else:\n",
    "            self.W_out = np.random.uniform(-0.1, 0.1, size=(hidden_size_1, output_size))\n",
    "\n",
    "        self.b_out = np.random.uniform(-0.1, 0.1, size=output_size)\n",
    "\n",
    "    def forward(self, X):\n",
    "        self.Z1 = np.dot(X, self.W1) + self.b1\n",
    "        self.A1 = sigmoid(self.Z1)\n",
    "\n",
    "        if self.use_second_hidden:\n",
    "            self.Z2 = np.dot(self.A1, self.W2) + self.b2\n",
    "            self.A2 = sigmoid(self.Z2)\n",
    "            self.Z_out = np.dot(self.A2, self.W_out) + self.b_out\n",
    "        else:\n",
    "            self.Z_out = np.dot(self.A1, self.W_out) + self.b_out\n",
    "\n",
    "        return sigmoid(self.Z_out)\n",
    "\n",
    "    def loss(self, X, y):\n",
    "        y = y.astype(int)\n",
    "        y_onehot = one_hot(self.W_out.shape[1], y)\n",
    "        y_pred = self.forward(X)\n",
    "        y_pred = np.clip(y_pred, 1e-12, 1 - 1e-12)\n",
    "        return -np.mean(np.sum(y_onehot * np.log(y_pred), axis=1))\n",
    "\n",
    "    def accuracy(self, X, y):\n",
    "        return np.mean(self.predict(X) == y)\n",
    "\n",
    "    def predict(self, X):\n",
    "        if len(X.shape) == 1:\n",
    "            X = X[np.newaxis, :]\n",
    "        return np.argmax(self.forward(X), axis=1)\n",
    "\n",
    "    def train(self, x, y, lr):\n",
    "        if np.isscalar(y):\n",
    "            y = np.array([y])\n",
    "        x = x[np.newaxis, :]\n",
    "\n",
    "        y_true = one_hot(self.W_out.shape[1], y)\n",
    "        y_pred = self.forward(x)\n",
    "\n",
    "        error_out = y_pred - y_true\n",
    "\n",
    "        if self.use_second_hidden:\n",
    "            dW_out = np.dot(self.A2.T, error_out)\n",
    "            db_out = np.sum(error_out, axis=0)\n",
    "\n",
    "            error_hidden2 = np.dot(error_out, self.W_out.T) * dsigmoid(self.Z2)\n",
    "            dW2 = np.dot(self.A1.T, error_hidden2)\n",
    "            db2 = np.sum(error_hidden2, axis=0)\n",
    "\n",
    "            error_hidden1 = np.dot(error_hidden2, self.W2.T) * dsigmoid(self.Z1)\n",
    "            dW1 = np.dot(x.T, error_hidden1)\n",
    "            db1 = np.sum(error_hidden1, axis=0)\n",
    "\n",
    "            self.W2 -= lr * dW2\n",
    "            self.b2 -= lr * db2\n",
    "        else:\n",
    "            dW_out = np.dot(self.A1.T, error_out)\n",
    "            db_out = np.sum(error_out, axis=0)\n",
    "\n",
    "            error_hidden1 = np.dot(error_out, self.W_out.T) * dsigmoid(self.Z1)\n",
    "            dW1 = np.dot(x.T, error_hidden1)\n",
    "            db1 = np.sum(error_hidden1, axis=0)\n",
    "\n",
    "        self.W1 -= lr * dW1\n",
    "        self.b1 -= lr * db1\n",
    "        self.W_out -= lr * dW_out\n",
    "        self.b_out -= lr * db_out\n",
    "\n",
    "# --------------------- Load Dataset ---------------------\n",
    "digits = load_digits()\n",
    "X, y = digits.data, digits.target\n",
    "\n",
    "scaler = StandardScaler()\n",
    "X = scaler.fit_transform(X)\n",
    "\n",
    "X_train, X_test, y_train, y_test = train_test_split(X, y, test_size=0.2, random_state=42)\n",
    "n_features = X.shape[1]  # 64\n",
    "n_classes = len(np.unique(y))  # 10\n",
    "\n",
    "# --------------------- Hyperparameters ---------------------\n",
    "learning_rate = 0.01\n",
    "hidden_size_1 = 64\n",
    "hidden_size_2 = 32  # Set to None for 1-layer network\n",
    "epochs = 15\n",
    "\n",
    "# --------------------- Train the Model ---------------------\n",
    "model = NeuralNet(n_features, hidden_size_1, n_classes, hidden_size_2)\n",
    "\n",
    "losses, accs_train, accs_test = [], [], []\n",
    "\n",
    "for epoch in range(epochs):\n",
    "    for x, y in zip(X_train, y_train):\n",
    "        model.train(x, y, learning_rate)\n",
    "\n",
    "    loss = model.loss(X_train, y_train)\n",
    "    acc_train = model.accuracy(X_train, y_train)\n",
    "    acc_test = model.accuracy(X_test, y_test)\n",
    "\n",
    "    losses.append(loss)\n",
    "    accs_train.append(acc_train)\n",
    "    accs_test.append(acc_test)\n",
    "\n",
    "    print(f\"Epoch {epoch + 1}: Loss={loss:.4f}, Train Acc={acc_train:.3f}, Test Acc={acc_test:.3f}\")\n",
    "\n",
    "print(f\"\\n🎯 Best Test Accuracy: {max(accs_test):.3f}\")\n",
    "\n",
    "# --------------------- Plot Results ---------------------\n",
    "plt.plot(losses, label=\"Train Loss\")\n",
    "plt.plot(accs_train, label=\"Train Accuracy\")\n",
    "plt.plot(accs_test, label=\"Test Accuracy\")\n",
    "plt.xlabel(\"Epoch\")\n",
    "plt.title(\"Training Progress\")\n",
    "plt.legend()\n",
    "plt.grid(True)\n",
    "plt.show()\n"
   ]
  },
  {
   "cell_type": "code",
   "execution_count": null,
   "metadata": {},
   "outputs": [],
   "source": []
  }
 ],
 "metadata": {
  "kernelspec": {
   "display_name": "dsi_participant",
   "language": "python",
   "name": "python3"
  },
  "language_info": {
   "codemirror_mode": {
    "name": "ipython",
    "version": 3
   },
   "file_extension": ".py",
   "mimetype": "text/x-python",
   "name": "python",
   "nbconvert_exporter": "python",
   "pygments_lexer": "ipython3",
   "version": "3.9.21"
  }
 },
 "nbformat": 4,
 "nbformat_minor": 4
}
